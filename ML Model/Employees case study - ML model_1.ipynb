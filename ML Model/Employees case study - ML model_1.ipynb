{
 "cells": [
  {
   "cell_type": "code",
   "execution_count": 127,
   "metadata": {},
   "outputs": [],
   "source": [
    "import pandas as pd\n",
    "import numpy as np\n",
    "import matplotlib.pyplot as plt\n",
    "import seaborn as sns\n",
    "from datetime import datetime\n",
    "import matplotlib.ticker as mtick\n",
    "from matplotlib.ticker import FuncFormatter\n"
   ]
  },
  {
   "cell_type": "code",
   "execution_count": 128,
   "metadata": {},
   "outputs": [],
   "source": [
    "from sqlalchemy import create_engine\n",
    "\n",
    "# Define connection parameters\n",
    "DRIVER_NAME = \"ODBC Driver 17 for SQL Server\"  # Use the correct driver\n",
    "SERVER_NAME = \"JoyalVivobook\"\n",
    "DATABASE_NAME = \"employees_db\"\n",
    "\n",
    "# Create SQLAlchemy engine\n",
    "engine = create_engine(f\"mssql+pyodbc://{SERVER_NAME}/{DATABASE_NAME}?trusted_connection=yes&driver={DRIVER_NAME}\")\n"
   ]
  },
  {
   "cell_type": "code",
   "execution_count": 129,
   "metadata": {},
   "outputs": [
    {
     "name": "stdout",
     "output_type": "stream",
     "text": [
      "Tables in the database:\n",
      "     TABLE_NAME\n",
      "0   departments\n",
      "1      dept_emp\n",
      "2  dept_manager\n",
      "3     employees\n",
      "4      salaries\n",
      "5        titles\n",
      "6    final_data\n"
     ]
    }
   ],
   "source": [
    "# Query to get all table names\n",
    "query = \"SELECT TABLE_NAME FROM INFORMATION_SCHEMA.TABLES WHERE TABLE_TYPE = 'BASE TABLE'\"\n",
    "\n",
    "# Fetch table names into Pandas DataFrame\n",
    "tables_df = pd.read_sql(query, engine)\n",
    "\n",
    "# Print the list of tables\n",
    "print(\"Tables in the database:\")\n",
    "print(tables_df)"
   ]
  },
  {
   "cell_type": "code",
   "execution_count": 130,
   "metadata": {},
   "outputs": [],
   "source": [
    "# Fetch data into Pandas DataFrame\n",
    "departments = pd.read_sql(\"SELECT * FROM departments\", engine)\n",
    "dept_emp = pd.read_sql(\"SELECT * FROM dept_emp\", engine)\n",
    "dept_manager = pd.read_sql(\"SELECT * FROM dept_manager\", engine)\n",
    "employees = pd.read_sql(\"SELECT * FROM employees\", engine)\n",
    "salaries = pd.read_sql(\"SELECT * FROM salaries\", engine)\n",
    "titles = pd.read_sql(\"SELECT * FROM titles\", engine)\n",
    "\n",
    "# Close the connection\n",
    "engine.dispose()"
   ]
  },
  {
   "cell_type": "code",
   "execution_count": 131,
   "metadata": {},
   "outputs": [
    {
     "data": {
      "text/plain": [
       "emp_no     object\n",
       "dept_no    object\n",
       "dtype: object"
      ]
     },
     "execution_count": 131,
     "metadata": {},
     "output_type": "execute_result"
    }
   ],
   "source": [
    "dept_emp.dtypes"
   ]
  },
  {
   "cell_type": "code",
   "execution_count": 132,
   "metadata": {},
   "outputs": [
    {
     "data": {
      "text/plain": [
       "31579"
      ]
     },
     "execution_count": 132,
     "metadata": {},
     "output_type": "execute_result"
    }
   ],
   "source": [
    "dept_emp['emp_no'].duplicated().sum()"
   ]
  },
  {
   "cell_type": "code",
   "execution_count": 133,
   "metadata": {},
   "outputs": [
    {
     "data": {
      "text/html": [
       "<div>\n",
       "<style scoped>\n",
       "    .dataframe tbody tr th:only-of-type {\n",
       "        vertical-align: middle;\n",
       "    }\n",
       "\n",
       "    .dataframe tbody tr th {\n",
       "        vertical-align: top;\n",
       "    }\n",
       "\n",
       "    .dataframe thead th {\n",
       "        text-align: right;\n",
       "    }\n",
       "</style>\n",
       "<table border=\"1\" class=\"dataframe\">\n",
       "  <thead>\n",
       "    <tr style=\"text-align: right;\">\n",
       "      <th></th>\n",
       "      <th>dept_no</th>\n",
       "      <th>emp_no</th>\n",
       "    </tr>\n",
       "  </thead>\n",
       "  <tbody>\n",
       "    <tr>\n",
       "      <th>0</th>\n",
       "      <td>d001</td>\n",
       "      <td>110022</td>\n",
       "    </tr>\n",
       "    <tr>\n",
       "      <th>1</th>\n",
       "      <td>d001</td>\n",
       "      <td>110039</td>\n",
       "    </tr>\n",
       "    <tr>\n",
       "      <th>2</th>\n",
       "      <td>d002</td>\n",
       "      <td>110085</td>\n",
       "    </tr>\n",
       "    <tr>\n",
       "      <th>3</th>\n",
       "      <td>d002</td>\n",
       "      <td>110114</td>\n",
       "    </tr>\n",
       "    <tr>\n",
       "      <th>4</th>\n",
       "      <td>d003</td>\n",
       "      <td>110183</td>\n",
       "    </tr>\n",
       "  </tbody>\n",
       "</table>\n",
       "</div>"
      ],
      "text/plain": [
       "  dept_no  emp_no\n",
       "0    d001  110022\n",
       "1    d001  110039\n",
       "2    d002  110085\n",
       "3    d002  110114\n",
       "4    d003  110183"
      ]
     },
     "execution_count": 133,
     "metadata": {},
     "output_type": "execute_result"
    }
   ],
   "source": [
    "dept_manager.head()"
   ]
  },
  {
   "cell_type": "code",
   "execution_count": 134,
   "metadata": {},
   "outputs": [
    {
     "data": {
      "text/plain": [
       "dept_no    object\n",
       "emp_no      int64\n",
       "dtype: object"
      ]
     },
     "execution_count": 134,
     "metadata": {},
     "output_type": "execute_result"
    }
   ],
   "source": [
    "dept_manager.dtypes"
   ]
  },
  {
   "cell_type": "code",
   "execution_count": 135,
   "metadata": {},
   "outputs": [
    {
     "data": {
      "text/html": [
       "<div>\n",
       "<style scoped>\n",
       "    .dataframe tbody tr th:only-of-type {\n",
       "        vertical-align: middle;\n",
       "    }\n",
       "\n",
       "    .dataframe tbody tr th {\n",
       "        vertical-align: top;\n",
       "    }\n",
       "\n",
       "    .dataframe thead th {\n",
       "        text-align: right;\n",
       "    }\n",
       "</style>\n",
       "<table border=\"1\" class=\"dataframe\">\n",
       "  <thead>\n",
       "    <tr style=\"text-align: right;\">\n",
       "      <th></th>\n",
       "      <th>emp_no</th>\n",
       "      <th>emp_title_id</th>\n",
       "      <th>birth_date</th>\n",
       "      <th>first_name</th>\n",
       "      <th>last_name</th>\n",
       "      <th>sex</th>\n",
       "      <th>hire_date</th>\n",
       "      <th>no_of_projects</th>\n",
       "      <th>Last_performance_rating</th>\n",
       "      <th>left</th>\n",
       "      <th>last_date</th>\n",
       "    </tr>\n",
       "  </thead>\n",
       "  <tbody>\n",
       "    <tr>\n",
       "      <th>0</th>\n",
       "      <td>473302</td>\n",
       "      <td>s0001</td>\n",
       "      <td>1953-07-25</td>\n",
       "      <td>Hideyuki</td>\n",
       "      <td>Zallocco</td>\n",
       "      <td>M</td>\n",
       "      <td>1990-04-28</td>\n",
       "      <td>2</td>\n",
       "      <td>A</td>\n",
       "      <td>False</td>\n",
       "      <td>None</td>\n",
       "    </tr>\n",
       "    <tr>\n",
       "      <th>1</th>\n",
       "      <td>475053</td>\n",
       "      <td>e0002</td>\n",
       "      <td>1954-11-18</td>\n",
       "      <td>Byong</td>\n",
       "      <td>Delgrande</td>\n",
       "      <td>F</td>\n",
       "      <td>1991-09-07</td>\n",
       "      <td>1</td>\n",
       "      <td>C</td>\n",
       "      <td>False</td>\n",
       "      <td>None</td>\n",
       "    </tr>\n",
       "    <tr>\n",
       "      <th>2</th>\n",
       "      <td>57444</td>\n",
       "      <td>e0002</td>\n",
       "      <td>1958-01-30</td>\n",
       "      <td>Berry</td>\n",
       "      <td>Babb</td>\n",
       "      <td>F</td>\n",
       "      <td>1992-03-21</td>\n",
       "      <td>9</td>\n",
       "      <td>A</td>\n",
       "      <td>False</td>\n",
       "      <td>None</td>\n",
       "    </tr>\n",
       "    <tr>\n",
       "      <th>3</th>\n",
       "      <td>421786</td>\n",
       "      <td>s0001</td>\n",
       "      <td>1957-09-28</td>\n",
       "      <td>Xiong</td>\n",
       "      <td>Verhoeff</td>\n",
       "      <td>M</td>\n",
       "      <td>1987-11-26</td>\n",
       "      <td>2</td>\n",
       "      <td>C</td>\n",
       "      <td>False</td>\n",
       "      <td>None</td>\n",
       "    </tr>\n",
       "    <tr>\n",
       "      <th>4</th>\n",
       "      <td>282238</td>\n",
       "      <td>e0003</td>\n",
       "      <td>1952-10-28</td>\n",
       "      <td>Abdelkader</td>\n",
       "      <td>Baumann</td>\n",
       "      <td>F</td>\n",
       "      <td>1991-01-18</td>\n",
       "      <td>6</td>\n",
       "      <td>B</td>\n",
       "      <td>False</td>\n",
       "      <td>None</td>\n",
       "    </tr>\n",
       "  </tbody>\n",
       "</table>\n",
       "</div>"
      ],
      "text/plain": [
       "   emp_no emp_title_id  birth_date  first_name  last_name sex   hire_date  \\\n",
       "0  473302        s0001  1953-07-25    Hideyuki   Zallocco   M  1990-04-28   \n",
       "1  475053        e0002  1954-11-18       Byong  Delgrande   F  1991-09-07   \n",
       "2   57444        e0002  1958-01-30       Berry       Babb   F  1992-03-21   \n",
       "3  421786        s0001  1957-09-28       Xiong   Verhoeff   M  1987-11-26   \n",
       "4  282238        e0003  1952-10-28  Abdelkader    Baumann   F  1991-01-18   \n",
       "\n",
       "   no_of_projects Last_performance_rating   left last_date  \n",
       "0               2                       A  False      None  \n",
       "1               1                       C  False      None  \n",
       "2               9                       A  False      None  \n",
       "3               2                       C  False      None  \n",
       "4               6                       B  False      None  "
      ]
     },
     "execution_count": 135,
     "metadata": {},
     "output_type": "execute_result"
    }
   ],
   "source": [
    "employees.head()"
   ]
  },
  {
   "cell_type": "code",
   "execution_count": 136,
   "metadata": {},
   "outputs": [
    {
     "data": {
      "text/plain": [
       "emp_no                      int64\n",
       "emp_title_id               object\n",
       "birth_date                 object\n",
       "first_name                 object\n",
       "last_name                  object\n",
       "sex                        object\n",
       "hire_date                  object\n",
       "no_of_projects              int64\n",
       "Last_performance_rating    object\n",
       "left                         bool\n",
       "last_date                  object\n",
       "dtype: object"
      ]
     },
     "execution_count": 136,
     "metadata": {},
     "output_type": "execute_result"
    }
   ],
   "source": [
    "employees.dtypes"
   ]
  },
  {
   "cell_type": "code",
   "execution_count": 137,
   "metadata": {},
   "outputs": [
    {
     "data": {
      "text/html": [
       "<div>\n",
       "<style scoped>\n",
       "    .dataframe tbody tr th:only-of-type {\n",
       "        vertical-align: middle;\n",
       "    }\n",
       "\n",
       "    .dataframe tbody tr th {\n",
       "        vertical-align: top;\n",
       "    }\n",
       "\n",
       "    .dataframe thead th {\n",
       "        text-align: right;\n",
       "    }\n",
       "</style>\n",
       "<table border=\"1\" class=\"dataframe\">\n",
       "  <thead>\n",
       "    <tr style=\"text-align: right;\">\n",
       "      <th></th>\n",
       "      <th>emp_no</th>\n",
       "      <th>salary</th>\n",
       "    </tr>\n",
       "  </thead>\n",
       "  <tbody>\n",
       "    <tr>\n",
       "      <th>0</th>\n",
       "      <td>10001</td>\n",
       "      <td>60117</td>\n",
       "    </tr>\n",
       "    <tr>\n",
       "      <th>1</th>\n",
       "      <td>10002</td>\n",
       "      <td>65828</td>\n",
       "    </tr>\n",
       "    <tr>\n",
       "      <th>2</th>\n",
       "      <td>10003</td>\n",
       "      <td>40006</td>\n",
       "    </tr>\n",
       "    <tr>\n",
       "      <th>3</th>\n",
       "      <td>10004</td>\n",
       "      <td>40054</td>\n",
       "    </tr>\n",
       "    <tr>\n",
       "      <th>4</th>\n",
       "      <td>10005</td>\n",
       "      <td>78228</td>\n",
       "    </tr>\n",
       "  </tbody>\n",
       "</table>\n",
       "</div>"
      ],
      "text/plain": [
       "       emp_no  salary\n",
       "0  10001        60117\n",
       "1  10002        65828\n",
       "2  10003        40006\n",
       "3  10004        40054\n",
       "4  10005        78228"
      ]
     },
     "execution_count": 137,
     "metadata": {},
     "output_type": "execute_result"
    }
   ],
   "source": [
    "salaries.head()"
   ]
  },
  {
   "cell_type": "code",
   "execution_count": 138,
   "metadata": {},
   "outputs": [
    {
     "data": {
      "text/plain": [
       "emp_no    object\n",
       "salary     int64\n",
       "dtype: object"
      ]
     },
     "execution_count": 138,
     "metadata": {},
     "output_type": "execute_result"
    }
   ],
   "source": [
    "salaries.dtypes"
   ]
  },
  {
   "cell_type": "code",
   "execution_count": 139,
   "metadata": {},
   "outputs": [
    {
     "data": {
      "text/html": [
       "<div>\n",
       "<style scoped>\n",
       "    .dataframe tbody tr th:only-of-type {\n",
       "        vertical-align: middle;\n",
       "    }\n",
       "\n",
       "    .dataframe tbody tr th {\n",
       "        vertical-align: top;\n",
       "    }\n",
       "\n",
       "    .dataframe thead th {\n",
       "        text-align: right;\n",
       "    }\n",
       "</style>\n",
       "<table border=\"1\" class=\"dataframe\">\n",
       "  <thead>\n",
       "    <tr style=\"text-align: right;\">\n",
       "      <th></th>\n",
       "      <th>title_id</th>\n",
       "      <th>title</th>\n",
       "    </tr>\n",
       "  </thead>\n",
       "  <tbody>\n",
       "    <tr>\n",
       "      <th>0</th>\n",
       "      <td>s0001</td>\n",
       "      <td>Staff</td>\n",
       "    </tr>\n",
       "    <tr>\n",
       "      <th>1</th>\n",
       "      <td>s0002</td>\n",
       "      <td>Senior Staff</td>\n",
       "    </tr>\n",
       "    <tr>\n",
       "      <th>2</th>\n",
       "      <td>e0001</td>\n",
       "      <td>Assistant Engineer</td>\n",
       "    </tr>\n",
       "    <tr>\n",
       "      <th>3</th>\n",
       "      <td>e0002</td>\n",
       "      <td>Engineer</td>\n",
       "    </tr>\n",
       "    <tr>\n",
       "      <th>4</th>\n",
       "      <td>e0003</td>\n",
       "      <td>Senior Engineer</td>\n",
       "    </tr>\n",
       "  </tbody>\n",
       "</table>\n",
       "</div>"
      ],
      "text/plain": [
       "  title_id               title\n",
       "0    s0001               Staff\n",
       "1    s0002        Senior Staff\n",
       "2    e0001  Assistant Engineer\n",
       "3    e0002            Engineer\n",
       "4    e0003     Senior Engineer"
      ]
     },
     "execution_count": 139,
     "metadata": {},
     "output_type": "execute_result"
    }
   ],
   "source": [
    "titles.head()"
   ]
  },
  {
   "cell_type": "code",
   "execution_count": 140,
   "metadata": {},
   "outputs": [
    {
     "data": {
      "text/plain": [
       "title_id    object\n",
       "title       object\n",
       "dtype: object"
      ]
     },
     "execution_count": 140,
     "metadata": {},
     "output_type": "execute_result"
    }
   ],
   "source": [
    "titles.dtypes"
   ]
  },
  {
   "cell_type": "code",
   "execution_count": 141,
   "metadata": {},
   "outputs": [
    {
     "data": {
      "text/html": [
       "<div>\n",
       "<style scoped>\n",
       "    .dataframe tbody tr th:only-of-type {\n",
       "        vertical-align: middle;\n",
       "    }\n",
       "\n",
       "    .dataframe tbody tr th {\n",
       "        vertical-align: top;\n",
       "    }\n",
       "\n",
       "    .dataframe thead th {\n",
       "        text-align: right;\n",
       "    }\n",
       "</style>\n",
       "<table border=\"1\" class=\"dataframe\">\n",
       "  <thead>\n",
       "    <tr style=\"text-align: right;\">\n",
       "      <th></th>\n",
       "      <th>emp_no</th>\n",
       "      <th>emp_title_id</th>\n",
       "      <th>birth_date</th>\n",
       "      <th>first_name</th>\n",
       "      <th>last_name</th>\n",
       "      <th>sex</th>\n",
       "      <th>hire_date</th>\n",
       "      <th>no_of_projects</th>\n",
       "      <th>Last_performance_rating</th>\n",
       "      <th>left</th>\n",
       "      <th>last_date</th>\n",
       "    </tr>\n",
       "  </thead>\n",
       "  <tbody>\n",
       "    <tr>\n",
       "      <th>59074</th>\n",
       "      <td>110022</td>\n",
       "      <td>m0001</td>\n",
       "      <td>1956-09-12</td>\n",
       "      <td>Margareta</td>\n",
       "      <td>Markovitch</td>\n",
       "      <td>M</td>\n",
       "      <td>1985-01-01</td>\n",
       "      <td>1</td>\n",
       "      <td>C</td>\n",
       "      <td>False</td>\n",
       "      <td>None</td>\n",
       "    </tr>\n",
       "  </tbody>\n",
       "</table>\n",
       "</div>"
      ],
      "text/plain": [
       "       emp_no emp_title_id  birth_date first_name   last_name sex   hire_date  \\\n",
       "59074  110022        m0001  1956-09-12  Margareta  Markovitch   M  1985-01-01   \n",
       "\n",
       "       no_of_projects Last_performance_rating   left last_date  \n",
       "59074               1                       C  False      None  "
      ]
     },
     "execution_count": 141,
     "metadata": {},
     "output_type": "execute_result"
    }
   ],
   "source": [
    "employees[employees['emp_no']==110022]"
   ]
  },
  {
   "cell_type": "code",
   "execution_count": 142,
   "metadata": {},
   "outputs": [
    {
     "data": {
      "text/html": [
       "<div>\n",
       "<style scoped>\n",
       "    .dataframe tbody tr th:only-of-type {\n",
       "        vertical-align: middle;\n",
       "    }\n",
       "\n",
       "    .dataframe tbody tr th {\n",
       "        vertical-align: top;\n",
       "    }\n",
       "\n",
       "    .dataframe thead th {\n",
       "        text-align: right;\n",
       "    }\n",
       "</style>\n",
       "<table border=\"1\" class=\"dataframe\">\n",
       "  <thead>\n",
       "    <tr style=\"text-align: right;\">\n",
       "      <th></th>\n",
       "      <th>dept_no</th>\n",
       "      <th>emp_no</th>\n",
       "    </tr>\n",
       "  </thead>\n",
       "  <tbody>\n",
       "    <tr>\n",
       "      <th>0</th>\n",
       "      <td>d001</td>\n",
       "      <td>110022</td>\n",
       "    </tr>\n",
       "  </tbody>\n",
       "</table>\n",
       "</div>"
      ],
      "text/plain": [
       "  dept_no  emp_no\n",
       "0    d001  110022"
      ]
     },
     "execution_count": 142,
     "metadata": {},
     "output_type": "execute_result"
    }
   ],
   "source": [
    "dept_manager[dept_manager['emp_no']==110022]"
   ]
  },
  {
   "cell_type": "code",
   "execution_count": 143,
   "metadata": {},
   "outputs": [
    {
     "data": {
      "text/plain": [
       "emp_no                          0\n",
       "emp_title_id                    0\n",
       "birth_date                      0\n",
       "first_name                      0\n",
       "last_name                       0\n",
       "sex                             0\n",
       "hire_date                       0\n",
       "no_of_projects                  0\n",
       "Last_performance_rating         0\n",
       "left                            0\n",
       "last_date                  270157\n",
       "dtype: int64"
      ]
     },
     "execution_count": 143,
     "metadata": {},
     "output_type": "execute_result"
    }
   ],
   "source": [
    "#CHecking null values\n",
    "employees.isnull().sum()"
   ]
  },
  {
   "cell_type": "code",
   "execution_count": 144,
   "metadata": {},
   "outputs": [
    {
     "data": {
      "text/plain": [
       "0"
      ]
     },
     "execution_count": 144,
     "metadata": {},
     "output_type": "execute_result"
    }
   ],
   "source": [
    "employees['emp_no'].duplicated().sum()"
   ]
  },
  {
   "cell_type": "code",
   "execution_count": 145,
   "metadata": {},
   "outputs": [
    {
     "ename": "ValueError",
     "evalue": "You are trying to merge on int64 and object columns for key 'emp_no'. If you wish to proceed you should use pd.concat",
     "output_type": "error",
     "traceback": [
      "\u001b[1;31m---------------------------------------------------------------------------\u001b[0m",
      "\u001b[1;31mValueError\u001b[0m                                Traceback (most recent call last)",
      "Cell \u001b[1;32mIn[145], line 2\u001b[0m\n\u001b[0;32m      1\u001b[0m \u001b[38;5;66;03m#Joined tables\u001b[39;00m\n\u001b[1;32m----> 2\u001b[0m df1\u001b[38;5;241m=\u001b[39mpd\u001b[38;5;241m.\u001b[39mmerge(left\u001b[38;5;241m=\u001b[39memployees,right\u001b[38;5;241m=\u001b[39mdept_emp,left_on\u001b[38;5;241m=\u001b[39m\u001b[38;5;124m'\u001b[39m\u001b[38;5;124memp_no\u001b[39m\u001b[38;5;124m'\u001b[39m,right_on\u001b[38;5;241m=\u001b[39m\u001b[38;5;124m'\u001b[39m\u001b[38;5;124memp_no\u001b[39m\u001b[38;5;124m'\u001b[39m,how\u001b[38;5;241m=\u001b[39m\u001b[38;5;124m'\u001b[39m\u001b[38;5;124minner\u001b[39m\u001b[38;5;124m'\u001b[39m)\n",
      "File \u001b[1;32mc:\\Users\\Joyal\\anaconda3\\Lib\\site-packages\\pandas\\core\\reshape\\merge.py:169\u001b[0m, in \u001b[0;36mmerge\u001b[1;34m(left, right, how, on, left_on, right_on, left_index, right_index, sort, suffixes, copy, indicator, validate)\u001b[0m\n\u001b[0;32m    154\u001b[0m     \u001b[38;5;28;01mreturn\u001b[39;00m _cross_merge(\n\u001b[0;32m    155\u001b[0m         left_df,\n\u001b[0;32m    156\u001b[0m         right_df,\n\u001b[1;32m   (...)\u001b[0m\n\u001b[0;32m    166\u001b[0m         copy\u001b[38;5;241m=\u001b[39mcopy,\n\u001b[0;32m    167\u001b[0m     )\n\u001b[0;32m    168\u001b[0m \u001b[38;5;28;01melse\u001b[39;00m:\n\u001b[1;32m--> 169\u001b[0m     op \u001b[38;5;241m=\u001b[39m _MergeOperation(\n\u001b[0;32m    170\u001b[0m         left_df,\n\u001b[0;32m    171\u001b[0m         right_df,\n\u001b[0;32m    172\u001b[0m         how\u001b[38;5;241m=\u001b[39mhow,\n\u001b[0;32m    173\u001b[0m         on\u001b[38;5;241m=\u001b[39mon,\n\u001b[0;32m    174\u001b[0m         left_on\u001b[38;5;241m=\u001b[39mleft_on,\n\u001b[0;32m    175\u001b[0m         right_on\u001b[38;5;241m=\u001b[39mright_on,\n\u001b[0;32m    176\u001b[0m         left_index\u001b[38;5;241m=\u001b[39mleft_index,\n\u001b[0;32m    177\u001b[0m         right_index\u001b[38;5;241m=\u001b[39mright_index,\n\u001b[0;32m    178\u001b[0m         sort\u001b[38;5;241m=\u001b[39msort,\n\u001b[0;32m    179\u001b[0m         suffixes\u001b[38;5;241m=\u001b[39msuffixes,\n\u001b[0;32m    180\u001b[0m         indicator\u001b[38;5;241m=\u001b[39mindicator,\n\u001b[0;32m    181\u001b[0m         validate\u001b[38;5;241m=\u001b[39mvalidate,\n\u001b[0;32m    182\u001b[0m     )\n\u001b[0;32m    183\u001b[0m     \u001b[38;5;28;01mreturn\u001b[39;00m op\u001b[38;5;241m.\u001b[39mget_result(copy\u001b[38;5;241m=\u001b[39mcopy)\n",
      "File \u001b[1;32mc:\\Users\\Joyal\\anaconda3\\Lib\\site-packages\\pandas\\core\\reshape\\merge.py:804\u001b[0m, in \u001b[0;36m_MergeOperation.__init__\u001b[1;34m(self, left, right, how, on, left_on, right_on, left_index, right_index, sort, suffixes, indicator, validate)\u001b[0m\n\u001b[0;32m    800\u001b[0m \u001b[38;5;28mself\u001b[39m\u001b[38;5;241m.\u001b[39m_validate_tolerance(\u001b[38;5;28mself\u001b[39m\u001b[38;5;241m.\u001b[39mleft_join_keys)\n\u001b[0;32m    802\u001b[0m \u001b[38;5;66;03m# validate the merge keys dtypes. We may need to coerce\u001b[39;00m\n\u001b[0;32m    803\u001b[0m \u001b[38;5;66;03m# to avoid incompatible dtypes\u001b[39;00m\n\u001b[1;32m--> 804\u001b[0m \u001b[38;5;28mself\u001b[39m\u001b[38;5;241m.\u001b[39m_maybe_coerce_merge_keys()\n\u001b[0;32m    806\u001b[0m \u001b[38;5;66;03m# If argument passed to validate,\u001b[39;00m\n\u001b[0;32m    807\u001b[0m \u001b[38;5;66;03m# check if columns specified as unique\u001b[39;00m\n\u001b[0;32m    808\u001b[0m \u001b[38;5;66;03m# are in fact unique.\u001b[39;00m\n\u001b[0;32m    809\u001b[0m \u001b[38;5;28;01mif\u001b[39;00m validate \u001b[38;5;129;01mis\u001b[39;00m \u001b[38;5;129;01mnot\u001b[39;00m \u001b[38;5;28;01mNone\u001b[39;00m:\n",
      "File \u001b[1;32mc:\\Users\\Joyal\\anaconda3\\Lib\\site-packages\\pandas\\core\\reshape\\merge.py:1479\u001b[0m, in \u001b[0;36m_MergeOperation._maybe_coerce_merge_keys\u001b[1;34m(self)\u001b[0m\n\u001b[0;32m   1473\u001b[0m     \u001b[38;5;66;03m# unless we are merging non-string-like with string-like\u001b[39;00m\n\u001b[0;32m   1474\u001b[0m     \u001b[38;5;28;01melif\u001b[39;00m (\n\u001b[0;32m   1475\u001b[0m         inferred_left \u001b[38;5;129;01min\u001b[39;00m string_types \u001b[38;5;129;01mand\u001b[39;00m inferred_right \u001b[38;5;129;01mnot\u001b[39;00m \u001b[38;5;129;01min\u001b[39;00m string_types\n\u001b[0;32m   1476\u001b[0m     ) \u001b[38;5;129;01mor\u001b[39;00m (\n\u001b[0;32m   1477\u001b[0m         inferred_right \u001b[38;5;129;01min\u001b[39;00m string_types \u001b[38;5;129;01mand\u001b[39;00m inferred_left \u001b[38;5;129;01mnot\u001b[39;00m \u001b[38;5;129;01min\u001b[39;00m string_types\n\u001b[0;32m   1478\u001b[0m     ):\n\u001b[1;32m-> 1479\u001b[0m         \u001b[38;5;28;01mraise\u001b[39;00m \u001b[38;5;167;01mValueError\u001b[39;00m(msg)\n\u001b[0;32m   1481\u001b[0m \u001b[38;5;66;03m# datetimelikes must match exactly\u001b[39;00m\n\u001b[0;32m   1482\u001b[0m \u001b[38;5;28;01melif\u001b[39;00m needs_i8_conversion(lk\u001b[38;5;241m.\u001b[39mdtype) \u001b[38;5;129;01mand\u001b[39;00m \u001b[38;5;129;01mnot\u001b[39;00m needs_i8_conversion(rk\u001b[38;5;241m.\u001b[39mdtype):\n",
      "\u001b[1;31mValueError\u001b[0m: You are trying to merge on int64 and object columns for key 'emp_no'. If you wish to proceed you should use pd.concat"
     ]
    }
   ],
   "source": [
    "#Joined tables\n",
    "df1=pd.merge(left=employees,right=dept_emp,left_on='emp_no',right_on='emp_no',how='inner')"
   ]
  },
  {
   "cell_type": "code",
   "execution_count": 146,
   "metadata": {},
   "outputs": [],
   "source": [
    "dept_emp['emp_no']=dept_emp['emp_no'].astype(int)"
   ]
  },
  {
   "cell_type": "code",
   "execution_count": 147,
   "metadata": {},
   "outputs": [
    {
     "data": {
      "text/plain": [
       "emp_no      int32\n",
       "dept_no    object\n",
       "dtype: object"
      ]
     },
     "execution_count": 147,
     "metadata": {},
     "output_type": "execute_result"
    }
   ],
   "source": [
    "dept_emp.dtypes"
   ]
  },
  {
   "cell_type": "code",
   "execution_count": 148,
   "metadata": {},
   "outputs": [
    {
     "data": {
      "text/plain": [
       "emp_no                      int64\n",
       "emp_title_id               object\n",
       "birth_date                 object\n",
       "first_name                 object\n",
       "last_name                  object\n",
       "sex                        object\n",
       "hire_date                  object\n",
       "no_of_projects              int64\n",
       "Last_performance_rating    object\n",
       "left                         bool\n",
       "last_date                  object\n",
       "dtype: object"
      ]
     },
     "execution_count": 148,
     "metadata": {},
     "output_type": "execute_result"
    }
   ],
   "source": [
    "employees.dtypes"
   ]
  },
  {
   "cell_type": "code",
   "execution_count": 149,
   "metadata": {},
   "outputs": [],
   "source": [
    "#Joined tables\n",
    "df1=pd.merge(left=employees,right=dept_emp,left_on='emp_no',right_on='emp_no',how='inner')"
   ]
  },
  {
   "cell_type": "code",
   "execution_count": 150,
   "metadata": {},
   "outputs": [
    {
     "data": {
      "text/html": [
       "<div>\n",
       "<style scoped>\n",
       "    .dataframe tbody tr th:only-of-type {\n",
       "        vertical-align: middle;\n",
       "    }\n",
       "\n",
       "    .dataframe tbody tr th {\n",
       "        vertical-align: top;\n",
       "    }\n",
       "\n",
       "    .dataframe thead th {\n",
       "        text-align: right;\n",
       "    }\n",
       "</style>\n",
       "<table border=\"1\" class=\"dataframe\">\n",
       "  <thead>\n",
       "    <tr style=\"text-align: right;\">\n",
       "      <th></th>\n",
       "      <th>emp_no</th>\n",
       "      <th>emp_title_id</th>\n",
       "      <th>birth_date</th>\n",
       "      <th>first_name</th>\n",
       "      <th>last_name</th>\n",
       "      <th>sex</th>\n",
       "      <th>hire_date</th>\n",
       "      <th>no_of_projects</th>\n",
       "      <th>Last_performance_rating</th>\n",
       "      <th>left</th>\n",
       "      <th>last_date</th>\n",
       "      <th>dept_no</th>\n",
       "    </tr>\n",
       "  </thead>\n",
       "  <tbody>\n",
       "    <tr>\n",
       "      <th>0</th>\n",
       "      <td>473302</td>\n",
       "      <td>s0001</td>\n",
       "      <td>1953-07-25</td>\n",
       "      <td>Hideyuki</td>\n",
       "      <td>Zallocco</td>\n",
       "      <td>M</td>\n",
       "      <td>1990-04-28</td>\n",
       "      <td>2</td>\n",
       "      <td>A</td>\n",
       "      <td>False</td>\n",
       "      <td>None</td>\n",
       "      <td>d002</td>\n",
       "    </tr>\n",
       "    <tr>\n",
       "      <th>1</th>\n",
       "      <td>475053</td>\n",
       "      <td>e0002</td>\n",
       "      <td>1954-11-18</td>\n",
       "      <td>Byong</td>\n",
       "      <td>Delgrande</td>\n",
       "      <td>F</td>\n",
       "      <td>1991-09-07</td>\n",
       "      <td>1</td>\n",
       "      <td>C</td>\n",
       "      <td>False</td>\n",
       "      <td>None</td>\n",
       "      <td>d004</td>\n",
       "    </tr>\n",
       "    <tr>\n",
       "      <th>2</th>\n",
       "      <td>57444</td>\n",
       "      <td>e0002</td>\n",
       "      <td>1958-01-30</td>\n",
       "      <td>Berry</td>\n",
       "      <td>Babb</td>\n",
       "      <td>F</td>\n",
       "      <td>1992-03-21</td>\n",
       "      <td>9</td>\n",
       "      <td>A</td>\n",
       "      <td>False</td>\n",
       "      <td>None</td>\n",
       "      <td>d004</td>\n",
       "    </tr>\n",
       "    <tr>\n",
       "      <th>3</th>\n",
       "      <td>421786</td>\n",
       "      <td>s0001</td>\n",
       "      <td>1957-09-28</td>\n",
       "      <td>Xiong</td>\n",
       "      <td>Verhoeff</td>\n",
       "      <td>M</td>\n",
       "      <td>1987-11-26</td>\n",
       "      <td>2</td>\n",
       "      <td>C</td>\n",
       "      <td>False</td>\n",
       "      <td>None</td>\n",
       "      <td>d003</td>\n",
       "    </tr>\n",
       "    <tr>\n",
       "      <th>4</th>\n",
       "      <td>282238</td>\n",
       "      <td>e0003</td>\n",
       "      <td>1952-10-28</td>\n",
       "      <td>Abdelkader</td>\n",
       "      <td>Baumann</td>\n",
       "      <td>F</td>\n",
       "      <td>1991-01-18</td>\n",
       "      <td>6</td>\n",
       "      <td>B</td>\n",
       "      <td>False</td>\n",
       "      <td>None</td>\n",
       "      <td>d006</td>\n",
       "    </tr>\n",
       "    <tr>\n",
       "      <th>...</th>\n",
       "      <td>...</td>\n",
       "      <td>...</td>\n",
       "      <td>...</td>\n",
       "      <td>...</td>\n",
       "      <td>...</td>\n",
       "      <td>...</td>\n",
       "      <td>...</td>\n",
       "      <td>...</td>\n",
       "      <td>...</td>\n",
       "      <td>...</td>\n",
       "      <td>...</td>\n",
       "      <td>...</td>\n",
       "    </tr>\n",
       "    <tr>\n",
       "      <th>331598</th>\n",
       "      <td>255832</td>\n",
       "      <td>e0002</td>\n",
       "      <td>1955-05-08</td>\n",
       "      <td>Yuping</td>\n",
       "      <td>Dayang</td>\n",
       "      <td>F</td>\n",
       "      <td>1995-02-26</td>\n",
       "      <td>10</td>\n",
       "      <td>A</td>\n",
       "      <td>False</td>\n",
       "      <td>None</td>\n",
       "      <td>d004</td>\n",
       "    </tr>\n",
       "    <tr>\n",
       "      <th>331599</th>\n",
       "      <td>76671</td>\n",
       "      <td>s0001</td>\n",
       "      <td>1959-06-09</td>\n",
       "      <td>Ortrud</td>\n",
       "      <td>Plessier</td>\n",
       "      <td>M</td>\n",
       "      <td>1988-02-24</td>\n",
       "      <td>8</td>\n",
       "      <td>B</td>\n",
       "      <td>False</td>\n",
       "      <td>None</td>\n",
       "      <td>d007</td>\n",
       "    </tr>\n",
       "    <tr>\n",
       "      <th>331600</th>\n",
       "      <td>264920</td>\n",
       "      <td>s0001</td>\n",
       "      <td>1959-09-22</td>\n",
       "      <td>Percy</td>\n",
       "      <td>Samarati</td>\n",
       "      <td>F</td>\n",
       "      <td>1994-09-08</td>\n",
       "      <td>1</td>\n",
       "      <td>B</td>\n",
       "      <td>False</td>\n",
       "      <td>None</td>\n",
       "      <td>d002</td>\n",
       "    </tr>\n",
       "    <tr>\n",
       "      <th>331601</th>\n",
       "      <td>264920</td>\n",
       "      <td>s0001</td>\n",
       "      <td>1959-09-22</td>\n",
       "      <td>Percy</td>\n",
       "      <td>Samarati</td>\n",
       "      <td>F</td>\n",
       "      <td>1994-09-08</td>\n",
       "      <td>1</td>\n",
       "      <td>B</td>\n",
       "      <td>False</td>\n",
       "      <td>None</td>\n",
       "      <td>d007</td>\n",
       "    </tr>\n",
       "    <tr>\n",
       "      <th>331602</th>\n",
       "      <td>464503</td>\n",
       "      <td>s0002</td>\n",
       "      <td>1964-05-31</td>\n",
       "      <td>Arvind</td>\n",
       "      <td>Slobodova</td>\n",
       "      <td>M</td>\n",
       "      <td>1987-11-23</td>\n",
       "      <td>8</td>\n",
       "      <td>C</td>\n",
       "      <td>False</td>\n",
       "      <td>None</td>\n",
       "      <td>d008</td>\n",
       "    </tr>\n",
       "  </tbody>\n",
       "</table>\n",
       "<p>331603 rows × 12 columns</p>\n",
       "</div>"
      ],
      "text/plain": [
       "        emp_no emp_title_id  birth_date  first_name  last_name sex  \\\n",
       "0       473302        s0001  1953-07-25    Hideyuki   Zallocco   M   \n",
       "1       475053        e0002  1954-11-18       Byong  Delgrande   F   \n",
       "2        57444        e0002  1958-01-30       Berry       Babb   F   \n",
       "3       421786        s0001  1957-09-28       Xiong   Verhoeff   M   \n",
       "4       282238        e0003  1952-10-28  Abdelkader    Baumann   F   \n",
       "...        ...          ...         ...         ...        ...  ..   \n",
       "331598  255832        e0002  1955-05-08      Yuping     Dayang   F   \n",
       "331599   76671        s0001  1959-06-09      Ortrud   Plessier   M   \n",
       "331600  264920        s0001  1959-09-22       Percy   Samarati   F   \n",
       "331601  264920        s0001  1959-09-22       Percy   Samarati   F   \n",
       "331602  464503        s0002  1964-05-31      Arvind  Slobodova   M   \n",
       "\n",
       "         hire_date  no_of_projects Last_performance_rating   left last_date  \\\n",
       "0       1990-04-28               2                       A  False      None   \n",
       "1       1991-09-07               1                       C  False      None   \n",
       "2       1992-03-21               9                       A  False      None   \n",
       "3       1987-11-26               2                       C  False      None   \n",
       "4       1991-01-18               6                       B  False      None   \n",
       "...            ...             ...                     ...    ...       ...   \n",
       "331598  1995-02-26              10                       A  False      None   \n",
       "331599  1988-02-24               8                       B  False      None   \n",
       "331600  1994-09-08               1                       B  False      None   \n",
       "331601  1994-09-08               1                       B  False      None   \n",
       "331602  1987-11-23               8                       C  False      None   \n",
       "\n",
       "       dept_no  \n",
       "0         d002  \n",
       "1         d004  \n",
       "2         d004  \n",
       "3         d003  \n",
       "4         d006  \n",
       "...        ...  \n",
       "331598    d004  \n",
       "331599    d007  \n",
       "331600    d002  \n",
       "331601    d007  \n",
       "331602    d008  \n",
       "\n",
       "[331603 rows x 12 columns]"
      ]
     },
     "execution_count": 150,
     "metadata": {},
     "output_type": "execute_result"
    }
   ],
   "source": [
    "df1"
   ]
  },
  {
   "cell_type": "code",
   "execution_count": 151,
   "metadata": {},
   "outputs": [],
   "source": [
    "df2=pd.merge(left=df1,right=titles,left_on='emp_title_id',right_on='title_id',how='inner')"
   ]
  },
  {
   "cell_type": "code",
   "execution_count": 152,
   "metadata": {},
   "outputs": [
    {
     "ename": "ValueError",
     "evalue": "You are trying to merge on int64 and object columns for key 'emp_no'. If you wish to proceed you should use pd.concat",
     "output_type": "error",
     "traceback": [
      "\u001b[1;31m---------------------------------------------------------------------------\u001b[0m",
      "\u001b[1;31mValueError\u001b[0m                                Traceback (most recent call last)",
      "Cell \u001b[1;32mIn[152], line 1\u001b[0m\n\u001b[1;32m----> 1\u001b[0m df3\u001b[38;5;241m=\u001b[39mpd\u001b[38;5;241m.\u001b[39mmerge(left\u001b[38;5;241m=\u001b[39mdf2,right\u001b[38;5;241m=\u001b[39msalaries,on\u001b[38;5;241m=\u001b[39m\u001b[38;5;124m'\u001b[39m\u001b[38;5;124memp_no\u001b[39m\u001b[38;5;124m'\u001b[39m,how\u001b[38;5;241m=\u001b[39m\u001b[38;5;124m'\u001b[39m\u001b[38;5;124minner\u001b[39m\u001b[38;5;124m'\u001b[39m)\n",
      "File \u001b[1;32mc:\\Users\\Joyal\\anaconda3\\Lib\\site-packages\\pandas\\core\\reshape\\merge.py:169\u001b[0m, in \u001b[0;36mmerge\u001b[1;34m(left, right, how, on, left_on, right_on, left_index, right_index, sort, suffixes, copy, indicator, validate)\u001b[0m\n\u001b[0;32m    154\u001b[0m     \u001b[38;5;28;01mreturn\u001b[39;00m _cross_merge(\n\u001b[0;32m    155\u001b[0m         left_df,\n\u001b[0;32m    156\u001b[0m         right_df,\n\u001b[1;32m   (...)\u001b[0m\n\u001b[0;32m    166\u001b[0m         copy\u001b[38;5;241m=\u001b[39mcopy,\n\u001b[0;32m    167\u001b[0m     )\n\u001b[0;32m    168\u001b[0m \u001b[38;5;28;01melse\u001b[39;00m:\n\u001b[1;32m--> 169\u001b[0m     op \u001b[38;5;241m=\u001b[39m _MergeOperation(\n\u001b[0;32m    170\u001b[0m         left_df,\n\u001b[0;32m    171\u001b[0m         right_df,\n\u001b[0;32m    172\u001b[0m         how\u001b[38;5;241m=\u001b[39mhow,\n\u001b[0;32m    173\u001b[0m         on\u001b[38;5;241m=\u001b[39mon,\n\u001b[0;32m    174\u001b[0m         left_on\u001b[38;5;241m=\u001b[39mleft_on,\n\u001b[0;32m    175\u001b[0m         right_on\u001b[38;5;241m=\u001b[39mright_on,\n\u001b[0;32m    176\u001b[0m         left_index\u001b[38;5;241m=\u001b[39mleft_index,\n\u001b[0;32m    177\u001b[0m         right_index\u001b[38;5;241m=\u001b[39mright_index,\n\u001b[0;32m    178\u001b[0m         sort\u001b[38;5;241m=\u001b[39msort,\n\u001b[0;32m    179\u001b[0m         suffixes\u001b[38;5;241m=\u001b[39msuffixes,\n\u001b[0;32m    180\u001b[0m         indicator\u001b[38;5;241m=\u001b[39mindicator,\n\u001b[0;32m    181\u001b[0m         validate\u001b[38;5;241m=\u001b[39mvalidate,\n\u001b[0;32m    182\u001b[0m     )\n\u001b[0;32m    183\u001b[0m     \u001b[38;5;28;01mreturn\u001b[39;00m op\u001b[38;5;241m.\u001b[39mget_result(copy\u001b[38;5;241m=\u001b[39mcopy)\n",
      "File \u001b[1;32mc:\\Users\\Joyal\\anaconda3\\Lib\\site-packages\\pandas\\core\\reshape\\merge.py:804\u001b[0m, in \u001b[0;36m_MergeOperation.__init__\u001b[1;34m(self, left, right, how, on, left_on, right_on, left_index, right_index, sort, suffixes, indicator, validate)\u001b[0m\n\u001b[0;32m    800\u001b[0m \u001b[38;5;28mself\u001b[39m\u001b[38;5;241m.\u001b[39m_validate_tolerance(\u001b[38;5;28mself\u001b[39m\u001b[38;5;241m.\u001b[39mleft_join_keys)\n\u001b[0;32m    802\u001b[0m \u001b[38;5;66;03m# validate the merge keys dtypes. We may need to coerce\u001b[39;00m\n\u001b[0;32m    803\u001b[0m \u001b[38;5;66;03m# to avoid incompatible dtypes\u001b[39;00m\n\u001b[1;32m--> 804\u001b[0m \u001b[38;5;28mself\u001b[39m\u001b[38;5;241m.\u001b[39m_maybe_coerce_merge_keys()\n\u001b[0;32m    806\u001b[0m \u001b[38;5;66;03m# If argument passed to validate,\u001b[39;00m\n\u001b[0;32m    807\u001b[0m \u001b[38;5;66;03m# check if columns specified as unique\u001b[39;00m\n\u001b[0;32m    808\u001b[0m \u001b[38;5;66;03m# are in fact unique.\u001b[39;00m\n\u001b[0;32m    809\u001b[0m \u001b[38;5;28;01mif\u001b[39;00m validate \u001b[38;5;129;01mis\u001b[39;00m \u001b[38;5;129;01mnot\u001b[39;00m \u001b[38;5;28;01mNone\u001b[39;00m:\n",
      "File \u001b[1;32mc:\\Users\\Joyal\\anaconda3\\Lib\\site-packages\\pandas\\core\\reshape\\merge.py:1479\u001b[0m, in \u001b[0;36m_MergeOperation._maybe_coerce_merge_keys\u001b[1;34m(self)\u001b[0m\n\u001b[0;32m   1473\u001b[0m     \u001b[38;5;66;03m# unless we are merging non-string-like with string-like\u001b[39;00m\n\u001b[0;32m   1474\u001b[0m     \u001b[38;5;28;01melif\u001b[39;00m (\n\u001b[0;32m   1475\u001b[0m         inferred_left \u001b[38;5;129;01min\u001b[39;00m string_types \u001b[38;5;129;01mand\u001b[39;00m inferred_right \u001b[38;5;129;01mnot\u001b[39;00m \u001b[38;5;129;01min\u001b[39;00m string_types\n\u001b[0;32m   1476\u001b[0m     ) \u001b[38;5;129;01mor\u001b[39;00m (\n\u001b[0;32m   1477\u001b[0m         inferred_right \u001b[38;5;129;01min\u001b[39;00m string_types \u001b[38;5;129;01mand\u001b[39;00m inferred_left \u001b[38;5;129;01mnot\u001b[39;00m \u001b[38;5;129;01min\u001b[39;00m string_types\n\u001b[0;32m   1478\u001b[0m     ):\n\u001b[1;32m-> 1479\u001b[0m         \u001b[38;5;28;01mraise\u001b[39;00m \u001b[38;5;167;01mValueError\u001b[39;00m(msg)\n\u001b[0;32m   1481\u001b[0m \u001b[38;5;66;03m# datetimelikes must match exactly\u001b[39;00m\n\u001b[0;32m   1482\u001b[0m \u001b[38;5;28;01melif\u001b[39;00m needs_i8_conversion(lk\u001b[38;5;241m.\u001b[39mdtype) \u001b[38;5;129;01mand\u001b[39;00m \u001b[38;5;129;01mnot\u001b[39;00m needs_i8_conversion(rk\u001b[38;5;241m.\u001b[39mdtype):\n",
      "\u001b[1;31mValueError\u001b[0m: You are trying to merge on int64 and object columns for key 'emp_no'. If you wish to proceed you should use pd.concat"
     ]
    }
   ],
   "source": [
    "df3=pd.merge(left=df2,right=salaries,on='emp_no',how='inner')"
   ]
  },
  {
   "cell_type": "code",
   "execution_count": 153,
   "metadata": {},
   "outputs": [
    {
     "data": {
      "text/plain": [
       "emp_no    object\n",
       "salary     int64\n",
       "dtype: object"
      ]
     },
     "execution_count": 153,
     "metadata": {},
     "output_type": "execute_result"
    }
   ],
   "source": [
    "salaries.dtypes"
   ]
  },
  {
   "cell_type": "code",
   "execution_count": 154,
   "metadata": {},
   "outputs": [],
   "source": [
    "salaries['emp_no']=salaries['emp_no'].astype(int)"
   ]
  },
  {
   "cell_type": "code",
   "execution_count": 155,
   "metadata": {},
   "outputs": [],
   "source": [
    "df3=pd.merge(left=df2,right=salaries,on='emp_no',how='inner')"
   ]
  },
  {
   "cell_type": "code",
   "execution_count": 156,
   "metadata": {},
   "outputs": [],
   "source": [
    "final_df=pd.merge(left=df3,right=departments,on='dept_no',how='inner')"
   ]
  },
  {
   "cell_type": "code",
   "execution_count": 157,
   "metadata": {},
   "outputs": [
    {
     "data": {
      "text/html": [
       "<div>\n",
       "<style scoped>\n",
       "    .dataframe tbody tr th:only-of-type {\n",
       "        vertical-align: middle;\n",
       "    }\n",
       "\n",
       "    .dataframe tbody tr th {\n",
       "        vertical-align: top;\n",
       "    }\n",
       "\n",
       "    .dataframe thead th {\n",
       "        text-align: right;\n",
       "    }\n",
       "</style>\n",
       "<table border=\"1\" class=\"dataframe\">\n",
       "  <thead>\n",
       "    <tr style=\"text-align: right;\">\n",
       "      <th></th>\n",
       "      <th>emp_no</th>\n",
       "      <th>emp_title_id</th>\n",
       "      <th>birth_date</th>\n",
       "      <th>first_name</th>\n",
       "      <th>last_name</th>\n",
       "      <th>sex</th>\n",
       "      <th>hire_date</th>\n",
       "      <th>no_of_projects</th>\n",
       "      <th>Last_performance_rating</th>\n",
       "      <th>left</th>\n",
       "      <th>last_date</th>\n",
       "      <th>dept_no</th>\n",
       "      <th>title_id</th>\n",
       "      <th>title</th>\n",
       "      <th>salary</th>\n",
       "      <th>dept_name</th>\n",
       "    </tr>\n",
       "  </thead>\n",
       "  <tbody>\n",
       "    <tr>\n",
       "      <th>0</th>\n",
       "      <td>473302</td>\n",
       "      <td>s0001</td>\n",
       "      <td>1953-07-25</td>\n",
       "      <td>Hideyuki</td>\n",
       "      <td>Zallocco</td>\n",
       "      <td>M</td>\n",
       "      <td>1990-04-28</td>\n",
       "      <td>2</td>\n",
       "      <td>A</td>\n",
       "      <td>False</td>\n",
       "      <td>None</td>\n",
       "      <td>d002</td>\n",
       "      <td>s0001</td>\n",
       "      <td>Staff</td>\n",
       "      <td>40000</td>\n",
       "      <td>Finance</td>\n",
       "    </tr>\n",
       "    <tr>\n",
       "      <th>1</th>\n",
       "      <td>48085</td>\n",
       "      <td>s0001</td>\n",
       "      <td>1964-01-19</td>\n",
       "      <td>Venkatesan</td>\n",
       "      <td>Gilg</td>\n",
       "      <td>M</td>\n",
       "      <td>1993-06-28</td>\n",
       "      <td>9</td>\n",
       "      <td>B</td>\n",
       "      <td>False</td>\n",
       "      <td>None</td>\n",
       "      <td>d002</td>\n",
       "      <td>s0001</td>\n",
       "      <td>Staff</td>\n",
       "      <td>63016</td>\n",
       "      <td>Finance</td>\n",
       "    </tr>\n",
       "    <tr>\n",
       "      <th>2</th>\n",
       "      <td>424270</td>\n",
       "      <td>s0001</td>\n",
       "      <td>1963-01-15</td>\n",
       "      <td>Kellyn</td>\n",
       "      <td>Yoshizawa</td>\n",
       "      <td>F</td>\n",
       "      <td>1995-05-08</td>\n",
       "      <td>8</td>\n",
       "      <td>A</td>\n",
       "      <td>False</td>\n",
       "      <td>None</td>\n",
       "      <td>d002</td>\n",
       "      <td>s0001</td>\n",
       "      <td>Staff</td>\n",
       "      <td>60678</td>\n",
       "      <td>Finance</td>\n",
       "    </tr>\n",
       "    <tr>\n",
       "      <th>3</th>\n",
       "      <td>37473</td>\n",
       "      <td>s0001</td>\n",
       "      <td>1952-03-06</td>\n",
       "      <td>Prasadram</td>\n",
       "      <td>Valette</td>\n",
       "      <td>M</td>\n",
       "      <td>1994-02-16</td>\n",
       "      <td>3</td>\n",
       "      <td>PIP</td>\n",
       "      <td>False</td>\n",
       "      <td>None</td>\n",
       "      <td>d002</td>\n",
       "      <td>s0001</td>\n",
       "      <td>Staff</td>\n",
       "      <td>55963</td>\n",
       "      <td>Finance</td>\n",
       "    </tr>\n",
       "    <tr>\n",
       "      <th>4</th>\n",
       "      <td>293744</td>\n",
       "      <td>s0001</td>\n",
       "      <td>1952-04-29</td>\n",
       "      <td>Kolar</td>\n",
       "      <td>Carrere</td>\n",
       "      <td>M</td>\n",
       "      <td>1987-06-30</td>\n",
       "      <td>2</td>\n",
       "      <td>B</td>\n",
       "      <td>False</td>\n",
       "      <td>None</td>\n",
       "      <td>d002</td>\n",
       "      <td>s0001</td>\n",
       "      <td>Staff</td>\n",
       "      <td>40000</td>\n",
       "      <td>Finance</td>\n",
       "    </tr>\n",
       "  </tbody>\n",
       "</table>\n",
       "</div>"
      ],
      "text/plain": [
       "   emp_no emp_title_id  birth_date  first_name  last_name sex   hire_date  \\\n",
       "0  473302        s0001  1953-07-25    Hideyuki   Zallocco   M  1990-04-28   \n",
       "1   48085        s0001  1964-01-19  Venkatesan       Gilg   M  1993-06-28   \n",
       "2  424270        s0001  1963-01-15      Kellyn  Yoshizawa   F  1995-05-08   \n",
       "3   37473        s0001  1952-03-06   Prasadram    Valette   M  1994-02-16   \n",
       "4  293744        s0001  1952-04-29       Kolar    Carrere   M  1987-06-30   \n",
       "\n",
       "   no_of_projects Last_performance_rating   left last_date dept_no title_id  \\\n",
       "0               2                       A  False      None    d002    s0001   \n",
       "1               9                       B  False      None    d002    s0001   \n",
       "2               8                       A  False      None    d002    s0001   \n",
       "3               3                     PIP  False      None    d002    s0001   \n",
       "4               2                       B  False      None    d002    s0001   \n",
       "\n",
       "   title  salary dept_name  \n",
       "0  Staff   40000   Finance  \n",
       "1  Staff   63016   Finance  \n",
       "2  Staff   60678   Finance  \n",
       "3  Staff   55963   Finance  \n",
       "4  Staff   40000   Finance  "
      ]
     },
     "execution_count": 157,
     "metadata": {},
     "output_type": "execute_result"
    }
   ],
   "source": [
    "final_df.head()"
   ]
  },
  {
   "cell_type": "code",
   "execution_count": 158,
   "metadata": {},
   "outputs": [
    {
     "data": {
      "text/plain": [
       "emp_no                      int64\n",
       "emp_title_id               object\n",
       "birth_date                 object\n",
       "first_name                 object\n",
       "last_name                  object\n",
       "sex                        object\n",
       "hire_date                  object\n",
       "no_of_projects              int64\n",
       "Last_performance_rating    object\n",
       "left                         bool\n",
       "last_date                  object\n",
       "dept_no                    object\n",
       "title_id                   object\n",
       "title                      object\n",
       "salary                      int64\n",
       "dept_name                  object\n",
       "dtype: object"
      ]
     },
     "execution_count": 158,
     "metadata": {},
     "output_type": "execute_result"
    }
   ],
   "source": [
    "final_df.dtypes"
   ]
  },
  {
   "cell_type": "code",
   "execution_count": 160,
   "metadata": {},
   "outputs": [
    {
     "data": {
      "text/plain": [
       "(331603, 16)"
      ]
     },
     "execution_count": 160,
     "metadata": {},
     "output_type": "execute_result"
    }
   ],
   "source": [
    "final_df.shape"
   ]
  },
  {
   "cell_type": "code",
   "execution_count": 161,
   "metadata": {},
   "outputs": [],
   "source": [
    "final_df.to_csv(\"output.csv\",index=False)"
   ]
  },
  {
   "cell_type": "code",
   "execution_count": 163,
   "metadata": {},
   "outputs": [],
   "source": [
    "final_df=pd.read_csv(\"output.csv\")"
   ]
  },
  {
   "cell_type": "code",
   "execution_count": 162,
   "metadata": {},
   "outputs": [],
   "source": [
    "final_df['hire_date']=pd.to_datetime(final_df['hire_date'],format='%Y-%m-%d')\n"
   ]
  },
  {
   "cell_type": "code",
   "execution_count": 66,
   "metadata": {},
   "outputs": [],
   "source": [
    "final_df['birth_date']=pd.to_datetime(final_df['birth_date'],format='%Y-%m-%d')\n"
   ]
  },
  {
   "cell_type": "code",
   "execution_count": 67,
   "metadata": {},
   "outputs": [],
   "source": [
    "final_df['last_date']=pd.to_datetime(final_df['last_date'],format='%Y-%m-%d')\n"
   ]
  },
  {
   "cell_type": "code",
   "execution_count": 68,
   "metadata": {},
   "outputs": [
    {
     "data": {
      "text/html": [
       "<div>\n",
       "<style scoped>\n",
       "    .dataframe tbody tr th:only-of-type {\n",
       "        vertical-align: middle;\n",
       "    }\n",
       "\n",
       "    .dataframe tbody tr th {\n",
       "        vertical-align: top;\n",
       "    }\n",
       "\n",
       "    .dataframe thead th {\n",
       "        text-align: right;\n",
       "    }\n",
       "</style>\n",
       "<table border=\"1\" class=\"dataframe\">\n",
       "  <thead>\n",
       "    <tr style=\"text-align: right;\">\n",
       "      <th></th>\n",
       "      <th>Unnamed: 0</th>\n",
       "      <th>emp_no</th>\n",
       "      <th>emp_title_id</th>\n",
       "      <th>birth_date</th>\n",
       "      <th>first_name</th>\n",
       "      <th>last_name</th>\n",
       "      <th>sex</th>\n",
       "      <th>hire_date</th>\n",
       "      <th>no_of_projects</th>\n",
       "      <th>Last_performance_rating</th>\n",
       "      <th>left</th>\n",
       "      <th>last_date</th>\n",
       "      <th>dept_no</th>\n",
       "      <th>title_id</th>\n",
       "      <th>title</th>\n",
       "      <th>salary</th>\n",
       "      <th>dept_name</th>\n",
       "    </tr>\n",
       "  </thead>\n",
       "  <tbody>\n",
       "    <tr>\n",
       "      <th>0</th>\n",
       "      <td>0</td>\n",
       "      <td>473302</td>\n",
       "      <td>s0001</td>\n",
       "      <td>1953-07-25</td>\n",
       "      <td>Hideyuki</td>\n",
       "      <td>Zallocco</td>\n",
       "      <td>M</td>\n",
       "      <td>1990-04-28</td>\n",
       "      <td>2</td>\n",
       "      <td>A</td>\n",
       "      <td>False</td>\n",
       "      <td>NaT</td>\n",
       "      <td>d002</td>\n",
       "      <td>s0001</td>\n",
       "      <td>Staff</td>\n",
       "      <td>40000</td>\n",
       "      <td>Finance</td>\n",
       "    </tr>\n",
       "    <tr>\n",
       "      <th>1</th>\n",
       "      <td>1</td>\n",
       "      <td>48085</td>\n",
       "      <td>s0001</td>\n",
       "      <td>1964-01-19</td>\n",
       "      <td>Venkatesan</td>\n",
       "      <td>Gilg</td>\n",
       "      <td>M</td>\n",
       "      <td>1993-06-28</td>\n",
       "      <td>9</td>\n",
       "      <td>B</td>\n",
       "      <td>False</td>\n",
       "      <td>NaT</td>\n",
       "      <td>d002</td>\n",
       "      <td>s0001</td>\n",
       "      <td>Staff</td>\n",
       "      <td>63016</td>\n",
       "      <td>Finance</td>\n",
       "    </tr>\n",
       "    <tr>\n",
       "      <th>2</th>\n",
       "      <td>2</td>\n",
       "      <td>424270</td>\n",
       "      <td>s0001</td>\n",
       "      <td>1963-01-15</td>\n",
       "      <td>Kellyn</td>\n",
       "      <td>Yoshizawa</td>\n",
       "      <td>F</td>\n",
       "      <td>1995-05-08</td>\n",
       "      <td>8</td>\n",
       "      <td>A</td>\n",
       "      <td>False</td>\n",
       "      <td>NaT</td>\n",
       "      <td>d002</td>\n",
       "      <td>s0001</td>\n",
       "      <td>Staff</td>\n",
       "      <td>60678</td>\n",
       "      <td>Finance</td>\n",
       "    </tr>\n",
       "    <tr>\n",
       "      <th>3</th>\n",
       "      <td>3</td>\n",
       "      <td>37473</td>\n",
       "      <td>s0001</td>\n",
       "      <td>1952-03-06</td>\n",
       "      <td>Prasadram</td>\n",
       "      <td>Valette</td>\n",
       "      <td>M</td>\n",
       "      <td>1994-02-16</td>\n",
       "      <td>3</td>\n",
       "      <td>PIP</td>\n",
       "      <td>False</td>\n",
       "      <td>NaT</td>\n",
       "      <td>d002</td>\n",
       "      <td>s0001</td>\n",
       "      <td>Staff</td>\n",
       "      <td>55963</td>\n",
       "      <td>Finance</td>\n",
       "    </tr>\n",
       "    <tr>\n",
       "      <th>4</th>\n",
       "      <td>4</td>\n",
       "      <td>293744</td>\n",
       "      <td>s0001</td>\n",
       "      <td>1952-04-29</td>\n",
       "      <td>Kolar</td>\n",
       "      <td>Carrere</td>\n",
       "      <td>M</td>\n",
       "      <td>1987-06-30</td>\n",
       "      <td>2</td>\n",
       "      <td>B</td>\n",
       "      <td>False</td>\n",
       "      <td>NaT</td>\n",
       "      <td>d002</td>\n",
       "      <td>s0001</td>\n",
       "      <td>Staff</td>\n",
       "      <td>40000</td>\n",
       "      <td>Finance</td>\n",
       "    </tr>\n",
       "  </tbody>\n",
       "</table>\n",
       "</div>"
      ],
      "text/plain": [
       "   Unnamed: 0  emp_no emp_title_id birth_date  first_name  last_name sex  \\\n",
       "0           0  473302        s0001 1953-07-25    Hideyuki   Zallocco   M   \n",
       "1           1   48085        s0001 1964-01-19  Venkatesan       Gilg   M   \n",
       "2           2  424270        s0001 1963-01-15      Kellyn  Yoshizawa   F   \n",
       "3           3   37473        s0001 1952-03-06   Prasadram    Valette   M   \n",
       "4           4  293744        s0001 1952-04-29       Kolar    Carrere   M   \n",
       "\n",
       "   hire_date  no_of_projects Last_performance_rating   left last_date dept_no  \\\n",
       "0 1990-04-28               2                       A  False       NaT    d002   \n",
       "1 1993-06-28               9                       B  False       NaT    d002   \n",
       "2 1995-05-08               8                       A  False       NaT    d002   \n",
       "3 1994-02-16               3                     PIP  False       NaT    d002   \n",
       "4 1987-06-30               2                       B  False       NaT    d002   \n",
       "\n",
       "  title_id  title  salary dept_name  \n",
       "0    s0001  Staff   40000   Finance  \n",
       "1    s0001  Staff   63016   Finance  \n",
       "2    s0001  Staff   60678   Finance  \n",
       "3    s0001  Staff   55963   Finance  \n",
       "4    s0001  Staff   40000   Finance  "
      ]
     },
     "execution_count": 68,
     "metadata": {},
     "output_type": "execute_result"
    }
   ],
   "source": [
    "final_df.head()"
   ]
  },
  {
   "cell_type": "code",
   "execution_count": 69,
   "metadata": {},
   "outputs": [
    {
     "name": "stdout",
     "output_type": "stream",
     "text": [
      "<class 'pandas.core.frame.DataFrame'>\n",
      "RangeIndex: 331603 entries, 0 to 331602\n",
      "Data columns (total 17 columns):\n",
      " #   Column                   Non-Null Count   Dtype         \n",
      "---  ------                   --------------   -----         \n",
      " 0   Unnamed: 0               331603 non-null  int64         \n",
      " 1   emp_no                   331603 non-null  int64         \n",
      " 2   emp_title_id             331603 non-null  object        \n",
      " 3   birth_date               331603 non-null  datetime64[ns]\n",
      " 4   first_name               331603 non-null  object        \n",
      " 5   last_name                331603 non-null  object        \n",
      " 6   sex                      331603 non-null  object        \n",
      " 7   hire_date                331603 non-null  datetime64[ns]\n",
      " 8   no_of_projects           331603 non-null  int64         \n",
      " 9   Last_performance_rating  331603 non-null  object        \n",
      " 10  left                     331603 non-null  bool          \n",
      " 11  last_date                33021 non-null   datetime64[ns]\n",
      " 12  dept_no                  331603 non-null  object        \n",
      " 13  title_id                 331603 non-null  object        \n",
      " 14  title                    331603 non-null  object        \n",
      " 15  salary                   331603 non-null  int64         \n",
      " 16  dept_name                331603 non-null  object        \n",
      "dtypes: bool(1), datetime64[ns](3), int64(4), object(9)\n",
      "memory usage: 40.8+ MB\n"
     ]
    }
   ],
   "source": [
    "final_df.info()"
   ]
  },
  {
   "cell_type": "markdown",
   "metadata": {},
   "source": [
    "## Classify employee as Left or not left"
   ]
  },
  {
   "cell_type": "markdown",
   "metadata": {},
   "source": [
    "### Plot distributions"
   ]
  },
  {
   "cell_type": "code",
   "execution_count": 260,
   "metadata": {},
   "outputs": [
    {
     "data": {
      "image/png": "[encoded data removed]",
      "text/plain": [
       "<Figure size 640x480 with 1 Axes>"
      ]
     },
     "metadata": {},
     "output_type": "display_data"
    },
    {
     "data": {
      "image/png": "[encoded data removed]",
      "text/plain": [
       "<Figure size 640x480 with 1 Axes>"
      ]
     },
     "metadata": {},
     "output_type": "display_data"
    },
    {
     "data": {
      "image/png": "[encoded data removed]",
      "text/plain": [
       "<Figure size 640x480 with 1 Axes>"
      ]
     },
     "metadata": {},
     "output_type": "display_data"
    },
    {
     "data": {
      "image/png": "[encoded data removed]",
      "text/plain": [
       "<Figure size 640x480 with 1 Axes>"
      ]
     },
     "metadata": {},
     "output_type": "display_data"
    },
    {
     "data": {
      "image/png": "[encoded data removed]",
      "text/plain": [
       "<Figure size 640x480 with 1 Axes>"
      ]
     },
     "metadata": {},
     "output_type": "display_data"
    }
   ],
   "source": [
    "for label in final_df.select_dtypes(include=['number']).columns:  # Only numeric columns\n",
    "    plt.hist(final_df[final_df['left'] == True][label], color='red', alpha=0.5, density=True, label='Left')\n",
    "    plt.hist(final_df[final_df['left'] == False][label], color='blue', alpha=0.5, density=True, label='Stayed')\n",
    "    plt.xlabel(label)\n",
    "    plt.ylabel(\"Density\")\n",
    "    plt.legend()\n",
    "    plt.title(f\"Distribution of {label} by Employee Status\")\n",
    "    plt.show()\n"
   ]
  },
  {
   "cell_type": "code",
   "execution_count": 261,
   "metadata": {},
   "outputs": [
    {
     "name": "stdout",
     "output_type": "stream",
     "text": [
      "Min: 40000, Max: 129492, Range: 89492\n"
     ]
    }
   ],
   "source": [
    "min_value = final_df['salary'].min()\n",
    "max_value = final_df['salary'].max()\n",
    "\n",
    "print(f\"Min: {min_value}, Max: {max_value}, Range: {max_value - min_value}\")\n"
   ]
  },
  {
   "cell_type": "code",
   "execution_count": 262,
   "metadata": {},
   "outputs": [
    {
     "name": "stdout",
     "output_type": "stream",
     "text": [
      "Min: 21, Max: 61, Range: 40\n"
     ]
    }
   ],
   "source": [
    "min_value = final_df['age'].min()\n",
    "max_value = final_df['age'].max()\n",
    "\n",
    "print(f\"Min: {min_value}, Max: {max_value}, Range: {max_value - min_value}\")\n"
   ]
  },
  {
   "cell_type": "code",
   "execution_count": 263,
   "metadata": {},
   "outputs": [
    {
     "name": "stdout",
     "output_type": "stream",
     "text": [
      "Min: 1, Max: 28, Range: 27\n"
     ]
    }
   ],
   "source": [
    "min_value = final_df['tenure'].min()\n",
    "max_value = final_df['tenure'].max()\n",
    "\n",
    "print(f\"Min: {min_value}, Max: {max_value}, Range: {max_value - min_value}\")\n"
   ]
  },
  {
   "cell_type": "code",
   "execution_count": 9,
   "metadata": {},
   "outputs": [],
   "source": [
    "import numpy as np\n",
    "import pandas as pd\n",
    "\n",
    "# Function to create 4 bins with unique edges\n",
    "def get_bins(series):\n",
    "    q1, q2, q3 = np.quantile(series, [0.25, 0.50, 0.75])\n",
    "    bins = np.unique([series.min(), q1, q2, q3, series.max() + 1e-5])  # Add epsilon to max\n",
    "    return bins\n",
    "\n",
    "# Function to create range labels from bins\n",
    "def get_range_labels(bins):\n",
    "    labels = []\n",
    "    for i in range(len(bins) - 1):\n",
    "        # Format numbers to remove unnecessary decimals\n",
    "        low = f\"{bins[i]:.0f}\" if bins[i].is_integer() else f\"{bins[i]:.2f}\"\n",
    "        high = f\"{bins[i+1]:.0f}\" if bins[i+1].is_integer() else f\"{bins[i+1]:.2f}\"\n",
    "        labels.append(f\"{low}-{high}\")\n",
    "    return labels\n",
    "\n",
    "# Generate bins (no salary)\n",
    "age_bins = get_bins(final_df['age'])\n",
    "tenure_bins = get_bins(final_df['tenure'])\n",
    "\n",
    "# Apply binning with range labels\n",
    "final_df['age_group'] = pd.cut(final_df['age'], \n",
    "                              bins=age_bins, \n",
    "                              include_lowest=True, \n",
    "                              labels=get_range_labels(age_bins))\n",
    "\n",
    "final_df['tenure_group'] = pd.cut(final_df['tenure'], \n",
    "                                 bins=tenure_bins, \n",
    "                                 include_lowest=True, \n",
    "                                 labels=get_range_labels(tenure_bins))"
   ]
  },
  {
   "cell_type": "code",
   "execution_count": 265,
   "metadata": {},
   "outputs": [],
   "source": [
    "final_df.to_csv(\"output.csv\", index=False)"
   ]
  },
  {
   "cell_type": "code",
   "execution_count": 266,
   "metadata": {},
   "outputs": [
    {
     "data": {
      "text/html": [
       "<div>\n",
       "<style scoped>\n",
       "    .dataframe tbody tr th:only-of-type {\n",
       "        vertical-align: middle;\n",
       "    }\n",
       "\n",
       "    .dataframe tbody tr th {\n",
       "        vertical-align: top;\n",
       "    }\n",
       "\n",
       "    .dataframe thead th {\n",
       "        text-align: right;\n",
       "    }\n",
       "</style>\n",
       "<table border=\"1\" class=\"dataframe\">\n",
       "  <thead>\n",
       "    <tr style=\"text-align: right;\">\n",
       "      <th></th>\n",
       "      <th>emp_no</th>\n",
       "      <th>emp_title_id</th>\n",
       "      <th>birth_date</th>\n",
       "      <th>first_name</th>\n",
       "      <th>last_name</th>\n",
       "      <th>sex</th>\n",
       "      <th>hire_date</th>\n",
       "      <th>no_of_projects</th>\n",
       "      <th>Last_performance_rating</th>\n",
       "      <th>left</th>\n",
       "      <th>last_date</th>\n",
       "      <th>dept_no</th>\n",
       "      <th>title_id</th>\n",
       "      <th>title</th>\n",
       "      <th>salary</th>\n",
       "      <th>dept_name</th>\n",
       "      <th>age</th>\n",
       "      <th>tenure</th>\n",
       "      <th>age_group</th>\n",
       "      <th>tenure_group</th>\n",
       "    </tr>\n",
       "  </thead>\n",
       "  <tbody>\n",
       "    <tr>\n",
       "      <th>0</th>\n",
       "      <td>473302</td>\n",
       "      <td>s0001</td>\n",
       "      <td>1953-07-25</td>\n",
       "      <td>Hideyuki</td>\n",
       "      <td>Zallocco</td>\n",
       "      <td>M</td>\n",
       "      <td>1990-04-28</td>\n",
       "      <td>2</td>\n",
       "      <td>A</td>\n",
       "      <td>False</td>\n",
       "      <td>2013-03-10</td>\n",
       "      <td>d002</td>\n",
       "      <td>s0001</td>\n",
       "      <td>Staff</td>\n",
       "      <td>40000</td>\n",
       "      <td>Finance</td>\n",
       "      <td>59</td>\n",
       "      <td>22</td>\n",
       "      <td>57-61.00</td>\n",
       "      <td>19-23</td>\n",
       "    </tr>\n",
       "    <tr>\n",
       "      <th>1</th>\n",
       "      <td>48085</td>\n",
       "      <td>s0001</td>\n",
       "      <td>1964-01-19</td>\n",
       "      <td>Venkatesan</td>\n",
       "      <td>Gilg</td>\n",
       "      <td>M</td>\n",
       "      <td>1993-06-28</td>\n",
       "      <td>9</td>\n",
       "      <td>B</td>\n",
       "      <td>False</td>\n",
       "      <td>2013-03-10</td>\n",
       "      <td>d002</td>\n",
       "      <td>s0001</td>\n",
       "      <td>Staff</td>\n",
       "      <td>63016</td>\n",
       "      <td>Finance</td>\n",
       "      <td>49</td>\n",
       "      <td>19</td>\n",
       "      <td>21-50</td>\n",
       "      <td>1-19</td>\n",
       "    </tr>\n",
       "    <tr>\n",
       "      <th>2</th>\n",
       "      <td>424270</td>\n",
       "      <td>s0001</td>\n",
       "      <td>1963-01-15</td>\n",
       "      <td>Kellyn</td>\n",
       "      <td>Yoshizawa</td>\n",
       "      <td>F</td>\n",
       "      <td>1995-05-08</td>\n",
       "      <td>8</td>\n",
       "      <td>A</td>\n",
       "      <td>False</td>\n",
       "      <td>2013-03-10</td>\n",
       "      <td>d002</td>\n",
       "      <td>s0001</td>\n",
       "      <td>Staff</td>\n",
       "      <td>60678</td>\n",
       "      <td>Finance</td>\n",
       "      <td>50</td>\n",
       "      <td>17</td>\n",
       "      <td>21-50</td>\n",
       "      <td>1-19</td>\n",
       "    </tr>\n",
       "    <tr>\n",
       "      <th>3</th>\n",
       "      <td>37473</td>\n",
       "      <td>s0001</td>\n",
       "      <td>1952-03-06</td>\n",
       "      <td>Prasadram</td>\n",
       "      <td>Valette</td>\n",
       "      <td>M</td>\n",
       "      <td>1994-02-16</td>\n",
       "      <td>3</td>\n",
       "      <td>PIP</td>\n",
       "      <td>False</td>\n",
       "      <td>2013-03-10</td>\n",
       "      <td>d002</td>\n",
       "      <td>s0001</td>\n",
       "      <td>Staff</td>\n",
       "      <td>55963</td>\n",
       "      <td>Finance</td>\n",
       "      <td>61</td>\n",
       "      <td>19</td>\n",
       "      <td>57-61.00</td>\n",
       "      <td>1-19</td>\n",
       "    </tr>\n",
       "    <tr>\n",
       "      <th>4</th>\n",
       "      <td>293744</td>\n",
       "      <td>s0001</td>\n",
       "      <td>1952-04-29</td>\n",
       "      <td>Kolar</td>\n",
       "      <td>Carrere</td>\n",
       "      <td>M</td>\n",
       "      <td>1987-06-30</td>\n",
       "      <td>2</td>\n",
       "      <td>B</td>\n",
       "      <td>False</td>\n",
       "      <td>2013-03-10</td>\n",
       "      <td>d002</td>\n",
       "      <td>s0001</td>\n",
       "      <td>Staff</td>\n",
       "      <td>40000</td>\n",
       "      <td>Finance</td>\n",
       "      <td>60</td>\n",
       "      <td>25</td>\n",
       "      <td>57-61.00</td>\n",
       "      <td>23-25</td>\n",
       "    </tr>\n",
       "  </tbody>\n",
       "</table>\n",
       "</div>"
      ],
      "text/plain": [
       "   emp_no emp_title_id birth_date  first_name  last_name sex  hire_date  \\\n",
       "0  473302        s0001 1953-07-25    Hideyuki   Zallocco   M 1990-04-28   \n",
       "1   48085        s0001 1964-01-19  Venkatesan       Gilg   M 1993-06-28   \n",
       "2  424270        s0001 1963-01-15      Kellyn  Yoshizawa   F 1995-05-08   \n",
       "3   37473        s0001 1952-03-06   Prasadram    Valette   M 1994-02-16   \n",
       "4  293744        s0001 1952-04-29       Kolar    Carrere   M 1987-06-30   \n",
       "\n",
       "   no_of_projects Last_performance_rating   left  last_date dept_no title_id  \\\n",
       "0               2                       A  False 2013-03-10    d002    s0001   \n",
       "1               9                       B  False 2013-03-10    d002    s0001   \n",
       "2               8                       A  False 2013-03-10    d002    s0001   \n",
       "3               3                     PIP  False 2013-03-10    d002    s0001   \n",
       "4               2                       B  False 2013-03-10    d002    s0001   \n",
       "\n",
       "   title  salary dept_name  age  tenure age_group tenure_group  \n",
       "0  Staff   40000   Finance   59      22  57-61.00        19-23  \n",
       "1  Staff   63016   Finance   49      19     21-50         1-19  \n",
       "2  Staff   60678   Finance   50      17     21-50         1-19  \n",
       "3  Staff   55963   Finance   61      19  57-61.00         1-19  \n",
       "4  Staff   40000   Finance   60      25  57-61.00        23-25  "
      ]
     },
     "execution_count": 266,
     "metadata": {},
     "output_type": "execute_result"
    }
   ],
   "source": [
    "final_df.head()"
   ]
  },
  {
   "cell_type": "markdown",
   "metadata": {},
   "source": [
    "### Logistic regression with pd.get_dummies"
   ]
  },
  {
   "cell_type": "code",
   "execution_count": 122,
   "metadata": {},
   "outputs": [
    {
     "name": "stdout",
     "output_type": "stream",
     "text": [
      "Accuracy: 0.9556\n",
      "\n",
      "Classification Report:\n",
      "               precision    recall  f1-score   support\n",
      "\n",
      "           0       1.00      0.95      0.97     89575\n",
      "           1       0.70      0.97      0.81      9906\n",
      "\n",
      "    accuracy                           0.96     99481\n",
      "   macro avg       0.85      0.96      0.89     99481\n",
      "weighted avg       0.97      0.96      0.96     99481\n",
      "\n",
      "\n",
      "Confusion Matrix:\n",
      " [[85433  4142]\n",
      " [  270  9636]]\n"
     ]
    }
   ],
   "source": [
    "import pandas as pd\n",
    "import numpy as np\n",
    "from sklearn.model_selection import train_test_split\n",
    "from sklearn.linear_model import LogisticRegression\n",
    "from sklearn.metrics import accuracy_score, classification_report, confusion_matrix\n",
    "from imblearn.over_sampling import RandomOverSampler\n",
    "\n",
    "# ================== 1️⃣ Keep Only Required Columns ==================\n",
    "categorical_cols = ['sex', 'title', 'Last_performance_rating','age_group', 'tenure_group']  # Treat no_of_projects as categorical\n",
    "target = 'left'\n",
    "\n",
    "final_df = final_df[categorical_cols + [target]]\n",
    "\n",
    "# ✅ Encoding categorical variables using pd.get_dummies()\n",
    "final_df = pd.get_dummies(final_df, columns=categorical_cols, drop_first=True)\n",
    "\n",
    "# ✅ Separating features and target variable\n",
    "X = final_df.drop(columns=[target])  # Features\n",
    "y = final_df[target].astype(int)  # Target variable (0 = stayed, 1 = left)\n",
    "\n",
    "# ================== 2️⃣ Train-Test Split ==================\n",
    "X_train, X_test, y_train, y_test = train_test_split(X, y, test_size=0.3, random_state=42, stratify=y)\n",
    "\n",
    "# ================== 3️⃣ Apply Random Oversampling to Handle Class Imbalance ==================\n",
    "ros = RandomOverSampler(random_state=42)\n",
    "X_train_resampled, y_train_resampled = ros.fit_resample(X_train, y_train)\n",
    "\n",
    "# ================== 4️⃣ Model Training with Logistic Regression ==================\n",
    "clf = LogisticRegression(solver='saga', class_weight='balanced', random_state=42)\n",
    "clf.fit(X_train_resampled, y_train_resampled)\n",
    "\n",
    "# ================== 5️⃣ Model Evaluation ==================\n",
    "y_pred = clf.predict(X_test)\n",
    "print(f\"Accuracy: {accuracy_score(y_test, y_pred):.4f}\")\n",
    "print(\"\\nClassification Report:\\n\", classification_report(y_test, y_pred))\n",
    "print(\"\\nConfusion Matrix:\\n\", confusion_matrix(y_test, y_pred))"
   ]
  },
  {
   "cell_type": "markdown",
   "metadata": {},
   "source": [
    "### Random Forest classifier"
   ]
  },
  {
   "cell_type": "code",
   "execution_count": 128,
   "metadata": {},
   "outputs": [
    {
     "name": "stdout",
     "output_type": "stream",
     "text": [
      "Accuracy: 0.9553\n",
      "\n",
      "Classification Report:\n",
      "               precision    recall  f1-score   support\n",
      "\n",
      "           0       1.00      0.95      0.97     89575\n",
      "           1       0.70      0.97      0.81      9906\n",
      "\n",
      "    accuracy                           0.96     99481\n",
      "   macro avg       0.85      0.96      0.89     99481\n",
      "weighted avg       0.97      0.96      0.96     99481\n",
      "\n",
      "\n",
      "Confusion Matrix:\n",
      " [[85401  4174]\n",
      " [  268  9638]]\n"
     ]
    }
   ],
   "source": [
    "import pandas as pd\n",
    "import numpy as np\n",
    "from sklearn.model_selection import train_test_split\n",
    "from sklearn.ensemble import RandomForestClassifier\n",
    "from sklearn.metrics import accuracy_score, classification_report, confusion_matrix\n",
    "from imblearn.over_sampling import RandomOverSampler\n",
    "\n",
    "# ================== 1️⃣ Keep Only Required Columns ==================\n",
    "categorical_cols = ['sex', 'title', 'Last_performance_rating','age_group', 'tenure_group']  # Only these categorical features\n",
    "target = 'left'\n",
    "\n",
    "final_df = final_df[categorical_cols + [target]]\n",
    "\n",
    "# ✅ Encoding categorical variables using pd.get_dummies()\n",
    "final_df = pd.get_dummies(final_df, columns=categorical_cols, drop_first=True)\n",
    "\n",
    "# ✅ Separating features and target variable\n",
    "X = final_df.drop(columns=[target])  # Features\n",
    "y = final_df[target].astype(int)  # Target variable (0 = stayed, 1 = left)\n",
    "\n",
    "# ================== 2️⃣ Train-Test Split ==================\n",
    "X_train, X_test, y_train, y_test = train_test_split(X, y, test_size=0.3, random_state=42, stratify=y)\n",
    "\n",
    "# ================== 3️⃣ Apply Random Oversampling to Handle Class Imbalance ==================\n",
    "ros = RandomOverSampler(random_state=42)\n",
    "X_train_resampled, y_train_resampled = ros.fit_resample(X_train, y_train)\n",
    "\n",
    "# ================== 4️⃣ Model Training with Random Forest ==================\n",
    "clf = RandomForestClassifier(\n",
    "    n_estimators=100,  # Number of trees\n",
    "    random_state=42,\n",
    "    class_weight='balanced'  # Handle class imbalance\n",
    ")\n",
    "clf.fit(X_train_resampled, y_train_resampled)\n",
    "\n",
    "# ================== 5️⃣ Model Evaluation ==================\n",
    "y_pred = clf.predict(X_test)\n",
    "print(f\"Accuracy: {accuracy_score(y_test, y_pred):.4f}\")\n",
    "print(\"\\nClassification Report:\\n\", classification_report(y_test, y_pred))\n",
    "print(\"\\nConfusion Matrix:\\n\", confusion_matrix(y_test, y_pred))\n"
   ]
  },
  {
   "cell_type": "markdown",
   "metadata": {},
   "source": [
    "### KNN code"
   ]
  },
  {
   "cell_type": "code",
   "execution_count": 136,
   "metadata": {},
   "outputs": [
    {
     "name": "stdout",
     "output_type": "stream",
     "text": [
      "Original training class distribution: [209007  23115]\n",
      "Resampled training class distribution: [209007 209007]\n",
      "\n",
      "Accuracy: 0.9478\n",
      "\n",
      "Classification Report:\n",
      "               precision    recall  f1-score   support\n",
      "\n",
      "           0       1.00      0.94      0.97     89575\n",
      "           1       0.66      0.98      0.79      9906\n",
      "\n",
      "    accuracy                           0.95     99481\n",
      "   macro avg       0.83      0.96      0.88     99481\n",
      "weighted avg       0.96      0.95      0.95     99481\n",
      "\n",
      "\n",
      "Confusion Matrix:\n",
      " [[84616  4959]\n",
      " [  236  9670]]\n"
     ]
    }
   ],
   "source": [
    "import pandas as pd\n",
    "import numpy as np\n",
    "from sklearn.model_selection import train_test_split\n",
    "from sklearn.neighbors import KNeighborsClassifier\n",
    "from sklearn.metrics import accuracy_score, classification_report, confusion_matrix\n",
    "from imblearn.over_sampling import RandomOverSampler\n",
    "\n",
    "# ================== 1️⃣ Keep Only Required Columns ==================\n",
    "categorical_cols = ['sex', 'title', 'Last_performance_rating','age_group', 'tenure_group']  # Only these categorical features\n",
    "target = 'left'\n",
    "\n",
    "final_df = final_df[categorical_cols + [target]]\n",
    "\n",
    "# ✅ Encoding categorical variables using pd.get_dummies()\n",
    "final_df = pd.get_dummies(final_df, columns=categorical_cols, drop_first=True)\n",
    "\n",
    "# ✅ Separating features and target variable\n",
    "X = final_df.drop(columns=[target])  # Features\n",
    "y = final_df[target].astype(int)  # Target variable (0 = stayed, 1 = left)\n",
    "\n",
    "# ================== 2️⃣ Train-Test Split ==================\n",
    "X_train, X_test, y_train, y_test = train_test_split(X, y, test_size=0.3, random_state=42, stratify=y)\n",
    "\n",
    "# ================== 3️⃣ Apply Random Oversampling to Handle Class Imbalance ==================\n",
    "ros = RandomOverSampler(random_state=42)\n",
    "X_train_resampled, y_train_resampled = ros.fit_resample(X_train, y_train)\n",
    "\n",
    "# Check class distribution before and after oversampling\n",
    "print(\"Original training class distribution:\", np.bincount(y_train))\n",
    "print(\"Resampled training class distribution:\", np.bincount(y_train_resampled))\n",
    "\n",
    "# ================== 4️⃣ Model Training with KNN ==================\n",
    "clf = KNeighborsClassifier(n_neighbors=5, weights='distance')  # Added weights='distance' for imbalance\n",
    "clf.fit(X_train_resampled, y_train_resampled)\n",
    "\n",
    "# ================== 5️⃣ Model Evaluation ==================\n",
    "y_pred = clf.predict(X_test)\n",
    "print(f\"\\nAccuracy: {accuracy_score(y_test, y_pred):.4f}\")\n",
    "print(\"\\nClassification Report:\\n\", classification_report(y_test, y_pred))\n",
    "print(\"\\nConfusion Matrix:\\n\", confusion_matrix(y_test, y_pred))"
   ]
  },
  {
   "cell_type": "markdown",
   "metadata": {},
   "source": [
    "### XGBOOST "
   ]
  },
  {
   "cell_type": "code",
   "execution_count": null,
   "metadata": {},
   "outputs": [
    {
     "name": "stdout",
     "output_type": "stream",
     "text": [
      "Original training class distribution: [209007  23115]\n",
      "Resampled training class distribution: [209007 209007]\n"
     ]
    },
    {
     "name": "stderr",
     "output_type": "stream",
     "text": [
      "c:\\Users\\Joyal\\anaconda3\\Lib\\site-packages\\xgboost\\core.py:158: UserWarning: [15:22:50] WARNING: C:\\buildkite-agent\\builds\\buildkite-windows-cpu-autoscaling-group-i-08cbc0333d8d4aae1-1\\xgboost\\xgboost-ci-windows\\src\\learner.cc:740: \n",
      "Parameters: { \"use_label_encoder\" } are not used.\n",
      "\n",
      "  warnings.warn(smsg, UserWarning)\n"
     ]
    },
    {
     "name": "stdout",
     "output_type": "stream",
     "text": [
      "\n",
      "Accuracy: 0.9554\n",
      "\n",
      "Classification Report:\n",
      "               precision    recall  f1-score   support\n",
      "\n",
      "           0       1.00      0.95      0.97     89575\n",
      "           1       0.70      0.97      0.81      9906\n",
      "\n",
      "    accuracy                           0.96     99481\n",
      "   macro avg       0.85      0.96      0.89     99481\n",
      "weighted avg       0.97      0.96      0.96     99481\n",
      "\n",
      "\n",
      "Confusion Matrix:\n",
      " [[85407  4168]\n",
      " [  269  9637]]\n"
     ]
    }
   ],
   "source": [
    "import pandas as pd\n",
    "import numpy as np\n",
    "from sklearn.model_selection import train_test_split\n",
    "from sklearn.metrics import accuracy_score, classification_report, confusion_matrix\n",
    "from imblearn.over_sampling import SMOTE\n",
    "import xgboost as xgb\n",
    "\n",
    "import numpy as np\n",
    "import pandas as pd\n",
    "\n",
    "final_df=pd.read_csv(\"output.csv\")\n",
    "\n",
    "# Function to create 4 bins with unique edges\n",
    "def get_bins(series):\n",
    "    q1, q2, q3 = np.quantile(series, [0.25, 0.50, 0.75])\n",
    "    bins = np.unique([series.min(), q1, q2, q3, series.max() + 1e-5])  # Add epsilon to max\n",
    "    return bins\n",
    "\n",
    "# Function to create range labels from bins\n",
    "def get_range_labels(bins):\n",
    "    labels = []\n",
    "    for i in range(len(bins) - 1):\n",
    "        # Format numbers to remove unnecessary decimals\n",
    "        low = f\"{bins[i]:.0f}\" if bins[i].is_integer() else f\"{bins[i]:.2f}\"\n",
    "        high = f\"{bins[i+1]:.0f}\" if bins[i+1].is_integer() else f\"{bins[i+1]:.2f}\"\n",
    "        labels.append(f\"{low}-{high}\")\n",
    "    return labels\n",
    "\n",
    "# Generate bins (no salary)\n",
    "age_bins = get_bins(final_df['age'])\n",
    "tenure_bins = get_bins(final_df['tenure'])\n",
    "\n",
    "# Apply binning with range labels\n",
    "final_df['age_group'] = pd.cut(final_df['age'], \n",
    "                              bins=age_bins, \n",
    "                              include_lowest=True, \n",
    "                              labels=get_range_labels(age_bins))\n",
    "\n",
    "final_df['tenure_group'] = pd.cut(final_df['tenure'], \n",
    "                                 bins=tenure_bins, \n",
    "                                 include_lowest=True, \n",
    "                                 labels=get_range_labels(tenure_bins))\n",
    "\n",
    "# ================== 1️⃣ Keep Only Required Columns ==================\n",
    "categorical_cols = ['sex', 'title', 'Last_performance_rating', 'age_group', 'tenure_group']  # Only these categorical features\n",
    "target = 'left'\n",
    "\n",
    "final_df = final_df[categorical_cols + [target]]\n",
    "\n",
    "# ✅ Encoding categorical variables using pd.get_dummies() and ensuring dense numerical output\n",
    "final_df = pd.get_dummies(final_df, columns=categorical_cols, drop_first=True, sparse=False, dtype=int)\n",
    "\n",
    "# ✅ Separating features and target variable\n",
    "X = final_df.drop(columns=[target])  # Features\n",
    "y = final_df[target].astype(int)  # Target variable (0 = stayed, 1 = left)\n",
    "\n",
    "# ================== 2️⃣ Train-Test Split ==================\n",
    "X_train, X_test, y_train, y_test = train_test_split(X, y, test_size=0.3, random_state=42, stratify=y)\n",
    "\n",
    "# Check original class distribution\n",
    "print(\"Original training class distribution:\", np.bincount(y_train))\n",
    "\n",
    "# Convert X_train to dense numerical format explicitly (if not already)\n",
    "X_train = X_train.astype(int)  # Ensure X_train is dense and numerical\n",
    "\n",
    "# ================== 3️⃣ Apply SMOTE Oversampling ==================\n",
    "smote = SMOTE(random_state=42)\n",
    "X_train_resampled, y_train_resampled = smote.fit_resample(X_train, y_train)\n",
    "\n",
    "# Check resampled class distribution\n",
    "print(\"Resampled training class distribution:\", np.bincount(y_train_resampled))\n",
    "\n",
    "# ================== 4️⃣ Model Training with XGBoost ==================\n",
    "clf = xgb.XGBClassifier(\n",
    "    objective='binary:logistic',\n",
    "    eval_metric='logloss',\n",
    "    use_label_encoder=False,\n",
    "    random_state=42\n",
    "    # scale_pos_weight omitted since SMOTE balances classes\n",
    ")\n",
    "clf.fit(X_train_resampled, y_train_resampled)\n",
    "\n",
    "# ================== 5️⃣ Model Evaluation ==================\n",
    "y_pred = clf.predict(X_test)\n",
    "print(f\"\\nAccuracy: {accuracy_score(y_test, y_pred):.4f}\")\n",
    "print(\"\\nClassification Report:\\n\", classification_report(y_test, y_pred))\n",
    "print(\"\\nConfusion Matrix:\\n\", confusion_matrix(y_test, y_pred))"
   ]
  },
  {
   "cell_type": "markdown",
   "metadata": {},
   "source": [
    "## ANN algoritm"
   ]
  },
  {
   "cell_type": "code",
   "execution_count": 180,
   "metadata": {},
   "outputs": [
    {
     "name": "stdout",
     "output_type": "stream",
     "text": [
      "Class distribution after oversampling:\n",
      "left\n",
      "0    238865\n",
      "1    238865\n",
      "Name: count, dtype: int64\n",
      "Epoch 1/10\n",
      "\u001b[1m11944/11944\u001b[0m \u001b[32m━━━━━━━━━━━━━━━━━━━━\u001b[0m\u001b[37m\u001b[0m \u001b[1m30s\u001b[0m 2ms/step - accuracy: 0.9165 - loss: 0.3138 - val_accuracy: 0.9869 - val_loss: 0.0402\n",
      "Epoch 2/10\n",
      "\u001b[1m11944/11944\u001b[0m \u001b[32m━━━━━━━━━━━━━━━━━━━━\u001b[0m\u001b[37m\u001b[0m \u001b[1m32s\u001b[0m 3ms/step - accuracy: 0.9402 - loss: 0.2321 - val_accuracy: 0.9916 - val_loss: 0.0342\n",
      "Epoch 3/10\n",
      "\u001b[1m11944/11944\u001b[0m \u001b[32m━━━━━━━━━━━━━━━━━━━━\u001b[0m\u001b[37m\u001b[0m \u001b[1m62s\u001b[0m 5ms/step - accuracy: 0.9405 - loss: 0.2300 - val_accuracy: 0.9917 - val_loss: 0.0371\n",
      "Epoch 4/10\n",
      "\u001b[1m11944/11944\u001b[0m \u001b[32m━━━━━━━━━━━━━━━━━━━━\u001b[0m\u001b[37m\u001b[0m \u001b[1m77s\u001b[0m 6ms/step - accuracy: 0.9404 - loss: 0.2288 - val_accuracy: 0.9908 - val_loss: 0.0450\n",
      "Epoch 5/10\n",
      "\u001b[1m11944/11944\u001b[0m \u001b[32m━━━━━━━━━━━━━━━━━━━━\u001b[0m\u001b[37m\u001b[0m \u001b[1m63s\u001b[0m 5ms/step - accuracy: 0.9415 - loss: 0.2281 - val_accuracy: 0.9907 - val_loss: 0.0396\n",
      "Epoch 6/10\n",
      "\u001b[1m11944/11944\u001b[0m \u001b[32m━━━━━━━━━━━━━━━━━━━━\u001b[0m\u001b[37m\u001b[0m \u001b[1m61s\u001b[0m 5ms/step - accuracy: 0.9406 - loss: 0.2290 - val_accuracy: 0.9914 - val_loss: 0.0356\n",
      "Epoch 7/10\n",
      "\u001b[1m11944/11944\u001b[0m \u001b[32m━━━━━━━━━━━━━━━━━━━━\u001b[0m\u001b[37m\u001b[0m \u001b[1m66s\u001b[0m 4ms/step - accuracy: 0.9407 - loss: 0.2285 - val_accuracy: 0.9912 - val_loss: 0.0397\n",
      "Epoch 8/10\n",
      "\u001b[1m11944/11944\u001b[0m \u001b[32m━━━━━━━━━━━━━━━━━━━━\u001b[0m\u001b[37m\u001b[0m \u001b[1m28s\u001b[0m 2ms/step - accuracy: 0.9405 - loss: 0.2291 - val_accuracy: 0.9910 - val_loss: 0.0398\n",
      "Epoch 9/10\n",
      "\u001b[1m11944/11944\u001b[0m \u001b[32m━━━━━━━━━━━━━━━━━━━━\u001b[0m\u001b[37m\u001b[0m \u001b[1m22s\u001b[0m 2ms/step - accuracy: 0.9399 - loss: 0.2326 - val_accuracy: 0.9893 - val_loss: 0.0364\n",
      "Epoch 10/10\n",
      "\u001b[1m11944/11944\u001b[0m \u001b[32m━━━━━━━━━━━━━━━━━━━━\u001b[0m\u001b[37m\u001b[0m \u001b[1m44s\u001b[0m 2ms/step - accuracy: 0.9401 - loss: 0.2308 - val_accuracy: 0.9910 - val_loss: 0.0356\n",
      "\u001b[1m2073/2073\u001b[0m \u001b[32m━━━━━━━━━━━━━━━━━━━━\u001b[0m\u001b[37m\u001b[0m \u001b[1m2s\u001b[0m 703us/step\n",
      "Accuracy: 0.9165\n",
      "\n",
      "Classification Report:\n",
      "               precision    recall  f1-score   support\n",
      "\n",
      "           0       1.00      0.91      0.95     59717\n",
      "           1       0.54      0.99      0.70      6604\n",
      "\n",
      "    accuracy                           0.92     66321\n",
      "   macro avg       0.77      0.95      0.83     66321\n",
      "weighted avg       0.95      0.92      0.93     66321\n",
      "\n",
      "\n",
      "Confusion Matrix:\n",
      " [[54232  5485]\n",
      " [   52  6552]]\n"
     ]
    }
   ],
   "source": [
    "import pandas as pd\n",
    "import numpy as np\n",
    "from sklearn.model_selection import train_test_split\n",
    "from sklearn.preprocessing import StandardScaler\n",
    "from sklearn.metrics import accuracy_score, classification_report, confusion_matrix\n",
    "from imblearn.over_sampling import RandomOverSampler\n",
    "import tensorflow as tf\n",
    "from tensorflow.keras.models import Sequential\n",
    "from tensorflow.keras.layers import Dense, Dropout\n",
    "\n",
    "# ================== 1️⃣ Keep Only Required Columns ==================\n",
    "categorical_cols = ['sex', 'title', 'Last_performance_rating', 'age_group', 'tenure_group'] \n",
    "target = 'left'\n",
    "\n",
    "final_df = final_df[categorical_cols + [target]]\n",
    "final_df = pd.get_dummies(final_df, columns=categorical_cols, drop_first=True)\n",
    "\n",
    "X = final_df.drop(columns=[target])\n",
    "y = final_df[target].astype(int)\n",
    "\n",
    "# ================== 2️⃣ Train-Test Split ==================\n",
    "X_train, X_test, y_train, y_test = train_test_split(X, y, test_size=0.2, random_state=42, stratify=y)\n",
    "\n",
    "# ================== 3️⃣ Apply Random Oversampling ==================\n",
    "ros = RandomOverSampler(random_state=42)\n",
    "X_train_resampled, y_train_resampled = ros.fit_resample(X_train, y_train)\n",
    "\n",
    "# ✅ Check class balance after oversampling\n",
    "print(\"Class distribution after oversampling:\")\n",
    "print(pd.Series(y_train_resampled).value_counts())\n",
    "\n",
    "# ================== 4️⃣ Build and Train ANN Model ==================\n",
    "model = Sequential([\n",
    "    tf.keras.layers.Input(shape=(X_train_resampled.shape[1],)),\n",
    "    Dense(64, activation='relu'),\n",
    "    Dropout(0.3),\n",
    "    Dense(32, activation='relu'),\n",
    "    Dropout(0.3),\n",
    "    Dense(16, activation='relu'),\n",
    "    Dense(1, activation='sigmoid')\n",
    "])\n",
    "\n",
    "model.compile(optimizer='adam', \n",
    "              loss='binary_crossentropy', \n",
    "              metrics=['accuracy'])\n",
    "\n",
    "# Adjusted class weights (less aggressive)\n",
    "class_weight = {0: 1.0, 1: 5.0}  # Try 1:5 instead of 1:9\n",
    "\n",
    "# Train for 3 epochs\n",
    "history = model.fit(X_train_resampled, y_train_resampled, \n",
    "                    epochs=10, \n",
    "                    batch_size=32, \n",
    "                    validation_split=0.2, \n",
    "                    class_weight=class_weight, \n",
    "                    verbose=1)\n",
    "\n",
    "# ================== 5️⃣ Model Evaluation ==================\n",
    "y_pred_prob = model.predict(X_test)\n",
    "y_pred = (y_pred_prob > 0.5).astype(int).flatten()\n",
    "\n",
    "print(f\"Accuracy: {accuracy_score(y_test, y_pred):.4f}\")\n",
    "print(\"\\nClassification Report:\\n\", classification_report(y_test, y_pred))\n",
    "print(\"\\nConfusion Matrix:\\n\", confusion_matrix(y_test, y_pred))"
   ]
  },
  {
   "cell_type": "code",
   "execution_count": 78,
   "metadata": {},
   "outputs": [
    {
     "data": {
      "text/html": [
       "<div>\n",
       "<style scoped>\n",
       "    .dataframe tbody tr th:only-of-type {\n",
       "        vertical-align: middle;\n",
       "    }\n",
       "\n",
       "    .dataframe tbody tr th {\n",
       "        vertical-align: top;\n",
       "    }\n",
       "\n",
       "    .dataframe thead th {\n",
       "        text-align: right;\n",
       "    }\n",
       "</style>\n",
       "<table border=\"1\" class=\"dataframe\">\n",
       "  <thead>\n",
       "    <tr style=\"text-align: right;\">\n",
       "      <th></th>\n",
       "      <th>Unnamed: 0</th>\n",
       "      <th>emp_no</th>\n",
       "      <th>emp_title_id</th>\n",
       "      <th>birth_date</th>\n",
       "      <th>first_name</th>\n",
       "      <th>last_name</th>\n",
       "      <th>sex</th>\n",
       "      <th>hire_date</th>\n",
       "      <th>no_of_projects</th>\n",
       "      <th>Last_performance_rating</th>\n",
       "      <th>...</th>\n",
       "      <th>last_date</th>\n",
       "      <th>dept_no</th>\n",
       "      <th>title_id</th>\n",
       "      <th>title</th>\n",
       "      <th>salary</th>\n",
       "      <th>dept_name</th>\n",
       "      <th>age</th>\n",
       "      <th>tenure</th>\n",
       "      <th>age_group</th>\n",
       "      <th>tenure_group</th>\n",
       "    </tr>\n",
       "  </thead>\n",
       "  <tbody>\n",
       "    <tr>\n",
       "      <th>0</th>\n",
       "      <td>0</td>\n",
       "      <td>473302</td>\n",
       "      <td>s0001</td>\n",
       "      <td>1953-07-25</td>\n",
       "      <td>Hideyuki</td>\n",
       "      <td>Zallocco</td>\n",
       "      <td>M</td>\n",
       "      <td>1990-04-28</td>\n",
       "      <td>2</td>\n",
       "      <td>A</td>\n",
       "      <td>...</td>\n",
       "      <td>NaT</td>\n",
       "      <td>d002</td>\n",
       "      <td>s0001</td>\n",
       "      <td>Staff</td>\n",
       "      <td>40000</td>\n",
       "      <td>Finance</td>\n",
       "      <td>NaN</td>\n",
       "      <td>NaN</td>\n",
       "      <td>NaN</td>\n",
       "      <td>NaN</td>\n",
       "    </tr>\n",
       "    <tr>\n",
       "      <th>1</th>\n",
       "      <td>1</td>\n",
       "      <td>48085</td>\n",
       "      <td>s0001</td>\n",
       "      <td>1964-01-19</td>\n",
       "      <td>Venkatesan</td>\n",
       "      <td>Gilg</td>\n",
       "      <td>M</td>\n",
       "      <td>1993-06-28</td>\n",
       "      <td>9</td>\n",
       "      <td>B</td>\n",
       "      <td>...</td>\n",
       "      <td>NaT</td>\n",
       "      <td>d002</td>\n",
       "      <td>s0001</td>\n",
       "      <td>Staff</td>\n",
       "      <td>63016</td>\n",
       "      <td>Finance</td>\n",
       "      <td>NaN</td>\n",
       "      <td>NaN</td>\n",
       "      <td>NaN</td>\n",
       "      <td>NaN</td>\n",
       "    </tr>\n",
       "    <tr>\n",
       "      <th>2</th>\n",
       "      <td>2</td>\n",
       "      <td>424270</td>\n",
       "      <td>s0001</td>\n",
       "      <td>1963-01-15</td>\n",
       "      <td>Kellyn</td>\n",
       "      <td>Yoshizawa</td>\n",
       "      <td>F</td>\n",
       "      <td>1995-05-08</td>\n",
       "      <td>8</td>\n",
       "      <td>A</td>\n",
       "      <td>...</td>\n",
       "      <td>NaT</td>\n",
       "      <td>d002</td>\n",
       "      <td>s0001</td>\n",
       "      <td>Staff</td>\n",
       "      <td>60678</td>\n",
       "      <td>Finance</td>\n",
       "      <td>NaN</td>\n",
       "      <td>NaN</td>\n",
       "      <td>NaN</td>\n",
       "      <td>NaN</td>\n",
       "    </tr>\n",
       "    <tr>\n",
       "      <th>3</th>\n",
       "      <td>3</td>\n",
       "      <td>37473</td>\n",
       "      <td>s0001</td>\n",
       "      <td>1952-03-06</td>\n",
       "      <td>Prasadram</td>\n",
       "      <td>Valette</td>\n",
       "      <td>M</td>\n",
       "      <td>1994-02-16</td>\n",
       "      <td>3</td>\n",
       "      <td>PIP</td>\n",
       "      <td>...</td>\n",
       "      <td>NaT</td>\n",
       "      <td>d002</td>\n",
       "      <td>s0001</td>\n",
       "      <td>Staff</td>\n",
       "      <td>55963</td>\n",
       "      <td>Finance</td>\n",
       "      <td>NaN</td>\n",
       "      <td>NaN</td>\n",
       "      <td>NaN</td>\n",
       "      <td>NaN</td>\n",
       "    </tr>\n",
       "    <tr>\n",
       "      <th>4</th>\n",
       "      <td>4</td>\n",
       "      <td>293744</td>\n",
       "      <td>s0001</td>\n",
       "      <td>1952-04-29</td>\n",
       "      <td>Kolar</td>\n",
       "      <td>Carrere</td>\n",
       "      <td>M</td>\n",
       "      <td>1987-06-30</td>\n",
       "      <td>2</td>\n",
       "      <td>B</td>\n",
       "      <td>...</td>\n",
       "      <td>NaT</td>\n",
       "      <td>d002</td>\n",
       "      <td>s0001</td>\n",
       "      <td>Staff</td>\n",
       "      <td>40000</td>\n",
       "      <td>Finance</td>\n",
       "      <td>NaN</td>\n",
       "      <td>NaN</td>\n",
       "      <td>NaN</td>\n",
       "      <td>NaN</td>\n",
       "    </tr>\n",
       "  </tbody>\n",
       "</table>\n",
       "<p>5 rows × 21 columns</p>\n",
       "</div>"
      ],
      "text/plain": [
       "   Unnamed: 0  emp_no emp_title_id birth_date  first_name  last_name sex  \\\n",
       "0           0  473302        s0001 1953-07-25    Hideyuki   Zallocco   M   \n",
       "1           1   48085        s0001 1964-01-19  Venkatesan       Gilg   M   \n",
       "2           2  424270        s0001 1963-01-15      Kellyn  Yoshizawa   F   \n",
       "3           3   37473        s0001 1952-03-06   Prasadram    Valette   M   \n",
       "4           4  293744        s0001 1952-04-29       Kolar    Carrere   M   \n",
       "\n",
       "   hire_date  no_of_projects Last_performance_rating  ...  last_date dept_no  \\\n",
       "0 1990-04-28               2                       A  ...        NaT    d002   \n",
       "1 1993-06-28               9                       B  ...        NaT    d002   \n",
       "2 1995-05-08               8                       A  ...        NaT    d002   \n",
       "3 1994-02-16               3                     PIP  ...        NaT    d002   \n",
       "4 1987-06-30               2                       B  ...        NaT    d002   \n",
       "\n",
       "  title_id  title salary  dept_name age  tenure  age_group tenure_group  \n",
       "0    s0001  Staff  40000    Finance NaN     NaN        NaN          NaN  \n",
       "1    s0001  Staff  63016    Finance NaN     NaN        NaN          NaN  \n",
       "2    s0001  Staff  60678    Finance NaN     NaN        NaN          NaN  \n",
       "3    s0001  Staff  55963    Finance NaN     NaN        NaN          NaN  \n",
       "4    s0001  Staff  40000    Finance NaN     NaN        NaN          NaN  \n",
       "\n",
       "[5 rows x 21 columns]"
      ]
     },
     "execution_count": 78,
     "metadata": {},
     "output_type": "execute_result"
    }
   ],
   "source": [
    "final_df.head()"
   ]
  },
  {
   "cell_type": "code",
   "execution_count": 123,
   "metadata": {},
   "outputs": [
    {
     "name": "stdout",
     "output_type": "stream",
     "text": [
      "✅ Model training complete. Pipeline saved as 'model_pipeline.pkl'.\n",
      "\n",
      "Accuracy: 0.9556\n",
      "\n",
      "Classification Report:\n",
      "               precision    recall  f1-score   support\n",
      "\n",
      "           0       1.00      0.95      0.97     89575\n",
      "           1       0.70      0.97      0.81      9906\n",
      "\n",
      "    accuracy                           0.96     99481\n",
      "   macro avg       0.85      0.96      0.89     99481\n",
      "weighted avg       0.97      0.96      0.96     99481\n",
      "\n",
      "\n",
      "Confusion Matrix:\n",
      " [[85433  4142]\n",
      " [  270  9636]]\n"
     ]
    }
   ],
   "source": [
    "import pandas as pd\n",
    "import numpy as np\n",
    "from sklearn.model_selection import train_test_split\n",
    "from sklearn.preprocessing import OneHotEncoder\n",
    "from sklearn.compose import ColumnTransformer\n",
    "from imblearn.pipeline import Pipeline as ImbPipeline  # Pipeline supporting SMOTE\n",
    "from imblearn.over_sampling import SMOTE\n",
    "from xgboost import XGBClassifier\n",
    "from sklearn.metrics import accuracy_score, classification_report, confusion_matrix\n",
    "import joblib\n",
    "\n",
    "# 📌 Load dataset \n",
    "final_df=pd.read_csv(\"output.csv\")\n",
    "final_df['hire_date']=pd.to_datetime(final_df['hire_date'],format='%Y-%m-%d')\n",
    "final_df['birth_date']=pd.to_datetime(final_df['birth_date'],format='%Y-%m-%d')\n",
    "final_df['last_date']=pd.to_datetime(final_df['last_date'],format='%Y-%m-%d')\n",
    "\n",
    "final_df['last_date'] = final_df['last_date'].fillna(final_df['last_date'].max())\n",
    "\n",
    "final_df['age'] = (final_df['last_date'] - final_df['birth_date']).dt.days // 365  # Convert days to years\n",
    "final_df['tenure']=(final_df['last_date'] - final_df['hire_date']).dt.days // 365\n",
    "\n",
    "# Function to create 4 bins with unique edges\n",
    "def get_bins(series):\n",
    "    q1, q2, q3 = np.quantile(series, [0.25, 0.50, 0.75])\n",
    "    bins = np.unique([series.min(), q1, q2, q3, series.max() + 1e-5])  # Add epsilon to max\n",
    "    return bins\n",
    "\n",
    "# Function to create range labels from bins\n",
    "def get_range_labels(bins):\n",
    "    labels = []\n",
    "    for i in range(len(bins) - 1):\n",
    "        # Format numbers to remove unnecessary decimals\n",
    "        low = f\"{bins[i]:.0f}\" if bins[i].is_integer() else f\"{bins[i]:.2f}\"\n",
    "        high = f\"{bins[i+1]:.0f}\" if bins[i+1].is_integer() else f\"{bins[i+1]:.2f}\"\n",
    "        labels.append(f\"{low}-{high}\")\n",
    "    return labels\n",
    "\n",
    "# Generate bins (no salary)\n",
    "age_bins = get_bins(final_df['age'])\n",
    "tenure_bins = get_bins(final_df['tenure'])\n",
    "\n",
    "# Apply binning with range labels\n",
    "final_df['age_group'] = pd.cut(final_df['age'], \n",
    "                              bins=age_bins, \n",
    "                              include_lowest=True, \n",
    "                              labels=get_range_labels(age_bins))\n",
    "\n",
    "final_df['tenure_group'] = pd.cut(final_df['tenure'], \n",
    "                                 bins=tenure_bins, \n",
    "                                 include_lowest=True, \n",
    "                                 labels=get_range_labels(tenure_bins))\n",
    "\n",
    "# Define categorical columns (all features are categorical)\n",
    "categorical_cols = ['sex', 'title','dept_name', 'Last_performance_rating', 'age_group', 'tenure_group']\n",
    "target = 'left'\n",
    "\n",
    "final_df = final_df[categorical_cols + [target]]\n",
    "\n",
    "X = final_df.drop(columns=[target])  # Features\n",
    "y = final_df[target].astype(int)  # Target (Convert to int: 0 = stayed, 1 = left)\n",
    "\n",
    "# Store feature order before transformation\n",
    "feature_order = X.columns.tolist()\n",
    "\n",
    "# ================== 2️⃣ Train-Test Split ==================\n",
    "X_train, X_test, y_train, y_test = train_test_split(X, y, test_size=0.3, random_state=42, stratify=y)\n",
    "\n",
    "# ================== 3️⃣ Define Preprocessing Pipeline ==================\n",
    "preprocessor = ColumnTransformer([\n",
    "    ('cat', OneHotEncoder(handle_unknown='ignore', sparse_output=False), categorical_cols)\n",
    "])\n",
    "\n",
    "# ================== 4️⃣ Define Full Pipeline with SMOTE & XGBoost ==================\n",
    "pipeline = ImbPipeline([\n",
    "    ('preprocessor', preprocessor),\n",
    "    ('smote', SMOTE(random_state=42)),  \n",
    "    ('classifier', XGBClassifier(n_estimators=100, learning_rate=0.1, max_depth=6, random_state=42))\n",
    "])\n",
    "\n",
    "# ================== 5️⃣ Train Model ==================\n",
    "pipeline.fit(X_train, y_train)\n",
    "\n",
    "# Store feature order and binning info inside pipeline\n",
    "pipeline.feature_order = feature_order\n",
    "pipeline.age_bins = age_bins\n",
    "pipeline.tenure_bins = tenure_bins\n",
    "pipeline.age_labels = get_range_labels(age_bins)\n",
    "pipeline.tenure_labels = get_range_labels(tenure_bins)\n",
    "\n",
    "# Save the trained pipeline\n",
    "joblib.dump(pipeline, \"model_pipeline.pkl\")\n",
    "\n",
    "# ✅ Save the trained pipeline\n",
    "joblib.dump(pipeline, \"model_pipeline.pkl\")\n",
    "\n",
    "# ================== 6️⃣ Model Evaluation ==================\n",
    "y_pred = pipeline.predict(X_test)\n",
    "print(\"✅ Model training complete. Pipeline saved as 'model_pipeline.pkl'.\")\n",
    "print(f\"\\nAccuracy: {accuracy_score(y_test, y_pred):.4f}\")\n",
    "print(\"\\nClassification Report:\\n\", classification_report(y_test, y_pred))\n",
    "print(\"\\nConfusion Matrix:\\n\", confusion_matrix(y_test, y_pred))"
   ]
  },
  {
   "cell_type": "code",
   "execution_count": 164,
   "metadata": {},
   "outputs": [],
   "source": [
    "final_df=pd.read_csv(\"output.csv\")"
   ]
  },
  {
   "cell_type": "code",
   "execution_count": 165,
   "metadata": {},
   "outputs": [
    {
     "name": "stdout",
     "output_type": "stream",
     "text": [
      "Random 1000 rows saved successfully!\n"
     ]
    }
   ],
   "source": [
    "# Take a random sample of 1000 rows\n",
    "random_1000_rows = final_df.sample(n=1000, random_state=42)\n",
    "\n",
    "# Save to CSV\n",
    "random_1000_rows.to_csv(\"random_1000_rows.csv\", index=False)\n",
    "\n",
    "print(\"Random 1000 rows saved successfully!\")"
   ]
  },
  {
   "cell_type": "code",
   "execution_count": 125,
   "metadata": {},
   "outputs": [
    {
     "name": "stdout",
     "output_type": "stream",
     "text": [
      "[0 0 0 0 0 0 0 0 0 0 0 0 0 0 0 0 0 0 0 1 0 0 0 0 1 0 0 0 0 1 0 0 0 0 1 0 1\n",
      " 1 0 0 0 0 0 0 0 0 0 0 0 0 1 0 0 1 1 0 1 0 0 0 0 0 1 0 0 0 0 0 0 0 0 0 0 0\n",
      " 0 0 0 0 0 0 1 0 0 0 0 0 0 1 0 0 0 0 0 0 1 0 0 0 0 0 0 0 0 0 0 0 0 0 0 0 0\n",
      " 0 0 0 0 0 0 0 0 0 0 1 0 1 0 0 0 0 0 0 0 0 0 0 0 0 0 0 0 0 0 0 1 0 0 1 0 1\n",
      " 0 0 0 0 0 0 0 1 0 0 0 0 0 0 0 0 0 0 0 0 0 0 0 0 0 0 0 0 0 0 0 0 1 0 0 0 0\n",
      " 0 0 0 0 0 0 0 1 0 0 0 0 0 0 0 0 0 0 0 0 0 0 0 0 0 0 0 0 0 0 0 0 0 0 0 0 1\n",
      " 0 0 0 0 0 0 0 0 0 0 0 0 1 0 0 0 0 0 0 0 0 0 1 0 0 0 0 0 0 0 0 1 0 0 0 0 0\n",
      " 1 0 0 0 1 1 0 0 0 0 0 0 0 0 0 0 0 0 0 0 0 0 0 1 0 0 0 0 0 0 1 0 1 0 0 0 1\n",
      " 0 0 0 0 1 0 0 0 0 0 0 1 0 0 1 0 0 0 0 0 1 1 0 0 0 0 0 0 0 0 0 0 0 0 0 1 0\n",
      " 0 0 0 0 1 0 0 0 0 0 0 0 0 0 0 0 0 0 0 0 0 0 1 0 1 0 0 0 0 0 0 0 1 0 1 0 0\n",
      " 0 1 0 0 0 0 0 0 0 0 0 0 0 0 0 0 1 0 0 1 0 0 0 0 0 0 0 0 0 0 0 0 0 0 0 0 0\n",
      " 0 0 0 0 0 0 1 0 0 0 0 0 0 0 0 0 0 0 0 1 0 1 1 0 0 0 0 0 0 0 0 0 0 1 1 0 0\n",
      " 0 0 0 0 0 0 0 0 0 0 0 1 1 0 0 0 0 0 0 0 1 0 0 0 0 0 0 0 0 0 0 0 0 0 1 0 0\n",
      " 0 0 0 0 0 0 1 0 0 0 0 1 1 0 1 0 0 0 0 0 0 0 0 0 0 0 0 1 0 0 1 0 1 0 0 0 0\n",
      " 0 0 0 0 0 0 1 0 0 0 1 0 0 0 0 0 0 0 1 0 0 0 0 0 0 0 0 0 0 0 0 0 0 1 0 1 0\n",
      " 0 0 0 0 0 1 0 1 0 0 0 0 0 0 0 0 1 0 0 0 0 0 0 0 0 0 0 0 0 0 0 0 0 0 0 0 0\n",
      " 0 0 0 0 0 0 0 0 1 0 0 0 0 0 0 1 0 0 0 1 0 0 0 1 0 0 0 0 0 0 0 1 0 0 0 0 0\n",
      " 0 0 0 0 0 0 1 0 0 0 0 0 0 0 0 0 0 1 1 0 1 0 0 0 0 0 0 0 0 0 0 0 0 0 0 0 0\n",
      " 0 0 0 0 0 0 0 0 1 0 0 1 0 0 0 0 0 0 0 0 0 0 0 1 1 0 0 0 1 0 0 0 0 0 1 0 0\n",
      " 1 0 0 0 0 0 0 0 0 0 0 0 0 0 0 0 0 0 0 0 0 0 0 0 0 0 0 0 0 0 0 1 0 0 1 1 0\n",
      " 1 0 0 0 1 0 0 0 0 0 0 0 0 0 0 0 0 1 0 0 0 0 0 0 0 0 0 0 1 0 0 0 0 0 0 0 0\n",
      " 0 0 0 0 1 0 0 0 0 0 0 0 0 0 1 0 0 0 0 1 0 1 0 0 0 0 0 0 0 0 0 0 0 0 0 0 1\n",
      " 0 1 1 1 0 0 0 0 0 0 1 0 0 1 0 0 0 0 1 0 0 0 0 0 0 0 1 0 0 0 1 0 0 0 0 0 0\n",
      " 1 0 0 0 0 0 0 0 0 0 0 0 0 0 0 0 0 1 0 0 1 0 0 0 0 0 0 0 0 0 0 0 0 1 0 0 0\n",
      " 0 0 0 1 0 0 0 0 0 0 0 0 0 0 0 0 0 0 0 0 0 1 0 0 0 0 0 0 0 0 0 0 0 0 0 0 0\n",
      " 0 0 0 0 0 0 0 0 0 0 0 0 0 1 0 0 0 0 0 0 0 0 0 0 0 0 0 0 0 0 0 0 0 0 0 0 0\n",
      " 0 0 0 0 0 0 0 0 0 0 1 0 0 1 0 0 0 0 0 0 0 1 0 0 0 0 0 0 1 1 0 1 0 1 0 0 0\n",
      " 1]\n"
     ]
    }
   ],
   "source": [
    "# ✅ Load model\n",
    "pipeline = joblib.load(\"model_pipeline.pkl\")\n",
    "\n",
    "# ✅ Load new data and reorder columns\n",
    "new_data = pd.read_csv(\"random_1000_rows.csv\")\n",
    "new_data = new_data[pipeline.feature_order]  # Ensure correct column order\n",
    "\n",
    "# ✅ Make predictions\n",
    "predictions = pipeline.predict(new_data)\n",
    "print(predictions)\n",
    "\n"
   ]
  },
  {
   "cell_type": "code",
   "execution_count": 126,
   "metadata": {},
   "outputs": [
    {
     "data": {
      "text/html": [
       "<div>\n",
       "<style scoped>\n",
       "    .dataframe tbody tr th:only-of-type {\n",
       "        vertical-align: middle;\n",
       "    }\n",
       "\n",
       "    .dataframe tbody tr th {\n",
       "        vertical-align: top;\n",
       "    }\n",
       "\n",
       "    .dataframe thead th {\n",
       "        text-align: right;\n",
       "    }\n",
       "</style>\n",
       "<table border=\"1\" class=\"dataframe\">\n",
       "  <thead>\n",
       "    <tr style=\"text-align: right;\">\n",
       "      <th></th>\n",
       "      <th>sex</th>\n",
       "      <th>title</th>\n",
       "      <th>dept_name</th>\n",
       "      <th>Last_performance_rating</th>\n",
       "      <th>age_group</th>\n",
       "      <th>tenure_group</th>\n",
       "      <th>left</th>\n",
       "    </tr>\n",
       "  </thead>\n",
       "  <tbody>\n",
       "    <tr>\n",
       "      <th>0</th>\n",
       "      <td>M</td>\n",
       "      <td>Staff</td>\n",
       "      <td>Finance</td>\n",
       "      <td>A</td>\n",
       "      <td>57-61.00</td>\n",
       "      <td>19-23</td>\n",
       "      <td>False</td>\n",
       "    </tr>\n",
       "    <tr>\n",
       "      <th>1</th>\n",
       "      <td>M</td>\n",
       "      <td>Staff</td>\n",
       "      <td>Finance</td>\n",
       "      <td>B</td>\n",
       "      <td>21-50</td>\n",
       "      <td>1-19</td>\n",
       "      <td>False</td>\n",
       "    </tr>\n",
       "    <tr>\n",
       "      <th>2</th>\n",
       "      <td>F</td>\n",
       "      <td>Staff</td>\n",
       "      <td>Finance</td>\n",
       "      <td>A</td>\n",
       "      <td>21-50</td>\n",
       "      <td>1-19</td>\n",
       "      <td>False</td>\n",
       "    </tr>\n",
       "    <tr>\n",
       "      <th>3</th>\n",
       "      <td>M</td>\n",
       "      <td>Staff</td>\n",
       "      <td>Finance</td>\n",
       "      <td>PIP</td>\n",
       "      <td>57-61.00</td>\n",
       "      <td>1-19</td>\n",
       "      <td>False</td>\n",
       "    </tr>\n",
       "    <tr>\n",
       "      <th>4</th>\n",
       "      <td>M</td>\n",
       "      <td>Staff</td>\n",
       "      <td>Finance</td>\n",
       "      <td>B</td>\n",
       "      <td>57-61.00</td>\n",
       "      <td>23-25</td>\n",
       "      <td>False</td>\n",
       "    </tr>\n",
       "  </tbody>\n",
       "</table>\n",
       "</div>"
      ],
      "text/plain": [
       "  sex  title dept_name Last_performance_rating age_group tenure_group   left\n",
       "0   M  Staff   Finance                       A  57-61.00        19-23  False\n",
       "1   M  Staff   Finance                       B     21-50         1-19  False\n",
       "2   F  Staff   Finance                       A     21-50         1-19  False\n",
       "3   M  Staff   Finance                     PIP  57-61.00         1-19  False\n",
       "4   M  Staff   Finance                       B  57-61.00        23-25  False"
      ]
     },
     "execution_count": 126,
     "metadata": {},
     "output_type": "execute_result"
    }
   ],
   "source": [
    "final_df.head()"
   ]
  },
  {
   "cell_type": "code",
   "execution_count": 167,
   "metadata": {},
   "outputs": [
    {
     "data": {
      "text/plain": [
       "Index(['emp_no', 'emp_title_id', 'birth_date', 'first_name', 'last_name',\n",
       "       'sex', 'hire_date', 'no_of_projects', 'Last_performance_rating', 'left',\n",
       "       'last_date', 'dept_no', 'title_id', 'title', 'salary', 'dept_name'],\n",
       "      dtype='object')"
      ]
     },
     "execution_count": 167,
     "metadata": {},
     "output_type": "execute_result"
    }
   ],
   "source": [
    "random_1000_rows.columns"
   ]
  },
  {
   "cell_type": "code",
   "execution_count": null,
   "metadata": {},
   "outputs": [],
   "source": []
  }
 ],
 "metadata": {
  "kernelspec": {
   "display_name": "base",
   "language": "python",
   "name": "python3"
  },
  "language_info": {
   "codemirror_mode": {
    "name": "ipython",
    "version": 3
   },
   "file_extension": ".py",
   "mimetype": "text/x-python",
   "name": "python",
   "nbconvert_exporter": "python",
   "pygments_lexer": "ipython3",
   "version": "3.11.5"
  }
 },
 "nbformat": 4,
 "nbformat_minor": 2
}
